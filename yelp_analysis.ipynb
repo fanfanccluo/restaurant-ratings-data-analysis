{
 "cells": [
  {
   "cell_type": "markdown",
   "metadata": {},
   "source": [
    "# The Analysis of Restaurant Ratings and Their Locations\n",
    "\n"
   ]
  },
  {
   "cell_type": "markdown",
   "metadata": {},
   "source": [
    "# Abstract\n",
    "\n",
    "As students, we often find ourselves deciding where to dine out. When looking for new restaurants, one of the first things we do is peruse yelp ratings/reviews to see nearby restaurants and others' dining experiences at those restaurants. Knowing this, we were curious as to whether businesses in proximity to universities have better/worse ratings and whether whether students patrons rated restaurants lower/higher relative to other customers.\n",
    "\n",
    "To focus our study on venues frequented by students, we first filtered yelp's dataset to include businesses under the \"Restaurant\" and \"Coffee & Tea\". Then, we selected several universities in the US and applied haversine's formula to calculate the distance between each university and the restaurants within the same city. For our project, we defined \"close to a university\" as under 5 kilometers, with anything above being defined as \"not close to a university.\" This distance was chosen due to its accessibility via public transportation and walking, aligning with typical student mobility. Our analysis revealed a trend: restaurants proximate to universities tend to have marginally higher ratings than those farther away. While the discrepancy is subtle, it's discernible and statistically significant, suggesting a non-random association.\n",
    "\n",
    "Transitioning to the next section, we wanted to answer the question: \"Does distance from university affect a restaurants's rating?\" Perhaps restaurants that are near universities have better food beacuse the lease is more expensive and they need more customers to sustain their business. For this question, we answer it using linear regression. We found that while distance from university affects rating, the effect is basically negligible.\n",
    "\n",
    "Finally, we wanted to see whether students tend to give better/worse ratings than other customers, so we used keywords to classify whether a review was written by a student or not. For this question, we also answer it using permutation tests to see whether any differences are caused by chance. Our conclusion was that students give lower ratings and the differences between students and non-students are not caused by chance."
   ]
  },
  {
   "cell_type": "markdown",
   "metadata": {},
   "source": [
    "# Research Question"
   ]
  },
  {
   "cell_type": "markdown",
   "metadata": {},
   "source": [
    "Do restaurants further from college/university campuses have higher or lower ratings than those that are closer? Can we determine if the reviewers of these restaurants are students and if so, do students increase or lower Yelp ratings at these restaurants?"
   ]
  },
  {
   "cell_type": "markdown",
   "metadata": {},
   "source": [
    "## Background and Prior Work"
   ]
  },
  {
   "cell_type": "markdown",
   "metadata": {},
   "source": [
    "Colleges and universities host many students every year and as the number of students grow business around these places also grow, some even forming college towns where businesses’ livelihoods depend on students like at UC Davis. As students of UCSD, we were curious as to specifically restaurants in the vicinity of a college or university. As a restaurant’s success or profits are hard to measure and obtain, we settled on trying to see if restaurants’ ratings are affected by their vicinity to the university in their city.\n",
    "\n",
    "One article published by QSR Magazine seems to indicate so, citing data from “College & University Keynote Report” from Datassential saying that 58% of students eat off campus and 49% of students consider themselves foodies and are more conscious about what they eat.<a name=\"cite_ref-1\"></a>[<sup>1</sup>](#cite_note-1) This means that more than half of the student body is regularly eating at restaurants around their campus and reviewing and recommending those restaurants. Another study that more closely looks at customer satisfaction with food service, points out several important factors that can contribute to a restaurant’s rating such as their food quality, service quality, decor quality, and most importantly price.<a name=\"cite_ref-2\"></a>[<sup>2</sup>](#cite_note-2) The conclusions they found is that good service and then good food were the best indicators of a high customer satisfaction. These point out significant attributes that aren’t considered in our research question, and possibly could be much greater of a factor of a restaurant’s rating than distance.\n",
    "\n",
    "1. Baltazar, Amanda. “Restaurants Would Be Wise to Court College Students.” QSR Magazine, 7 July 2023, https://www.qsrmagazine.com/operations/business-advice/restaurants-would-be-wise-court-college-students/\n",
    "2. Serhan, Mireille, and Carole Serhan. “The Impact of Food Service Attributes on Customer Satisfaction in a Rural University Campus Environment.” International Journal of Food Science, Hindawi, 31 Dec. 2019, https://www.hindawi.com/journals/ijfs/2019/2154548/"
   ]
  },
  {
   "cell_type": "markdown",
   "metadata": {},
   "source": [
    "# Hypothesis\n"
   ]
  },
  {
   "cell_type": "markdown",
   "metadata": {},
   "source": [
    "We believe that restaurants further from the university/college campuses will have similar ratings as those closer to university/college campuses. While an influx of students in the area can have an impact on nearby restaurants, we believe that this impact will be minimal and negligible. This is because students don’t make up a majority of a restaurants’ clientele, especially in more metropolitan areas. There are many other customers that either live in the area or are traveling that can give ratings to restaurants."
   ]
  },
  {
   "cell_type": "markdown",
   "metadata": {},
   "source": [
    "# Data"
   ]
  },
  {
   "cell_type": "markdown",
   "metadata": {},
   "source": [
    "- Dataset Name: Yelp Academic Dataset\n",
    "- Link to the dataset: https://www.yelp.com/dataset\n",
    "- Number of observations: 6990280 reviews, 150346 businesses\n",
    "- Number of variables: 9, 14\n",
    "\n",
    "This dataset contains information on a selection of businesses, reviews, and user data centered around different metropolitan areas from the app Yelp. It is separated into 5 different json files, businesses, reviews, checkin, tip, user. We only particularly care about the businesses and reviews. For businesses, the variables we care about are the business_id, city, longitude, latitude, stars, review_count. For reviews, the variables we care about are the business_id, stars and text."
   ]
  },
  {
   "cell_type": "markdown",
   "metadata": {},
   "source": [
    "## Yelp Academic Dataset"
   ]
  },
  {
   "cell_type": "code",
   "execution_count": 1,
   "metadata": {},
   "outputs": [],
   "source": [
    "# import necessary libraries\n",
    "\n",
    "import numpy as np\n",
    "import pandas as pd"
   ]
  },
  {
   "cell_type": "markdown",
   "metadata": {},
   "source": [
    "First let's load the business data into a dataframe."
   ]
  },
  {
   "cell_type": "code",
   "execution_count": 2,
   "metadata": {},
   "outputs": [],
   "source": [
    "# load business data\n",
    "business = pd.read_json('https://drive.usercontent.google.com/download?id=1HGtRB3g1Hx1t1j2vPqCdTEfG-WJtTFVN&confirm=xxx', lines=True)"
   ]
  },
  {
   "cell_type": "markdown",
   "metadata": {},
   "source": [
    "Let's drop all the observations with missing values in the important columns"
   ]
  },
  {
   "cell_type": "code",
   "execution_count": 3,
   "metadata": {},
   "outputs": [],
   "source": [
    "business = business.dropna(subset=['latitude', 'longitude', 'stars', 'review_count', 'categories']) # this changes nothing though"
   ]
  },
  {
   "cell_type": "code",
   "execution_count": 4,
   "metadata": {},
   "outputs": [
    {
     "data": {
      "text/html": [
       "<div>\n",
       "<style scoped>\n",
       "    .dataframe tbody tr th:only-of-type {\n",
       "        vertical-align: middle;\n",
       "    }\n",
       "\n",
       "    .dataframe tbody tr th {\n",
       "        vertical-align: top;\n",
       "    }\n",
       "\n",
       "    .dataframe thead th {\n",
       "        text-align: right;\n",
       "    }\n",
       "</style>\n",
       "<table border=\"1\" class=\"dataframe\">\n",
       "  <thead>\n",
       "    <tr style=\"text-align: right;\">\n",
       "      <th></th>\n",
       "      <th>business_id</th>\n",
       "      <th>name</th>\n",
       "      <th>address</th>\n",
       "      <th>city</th>\n",
       "      <th>state</th>\n",
       "      <th>postal_code</th>\n",
       "      <th>latitude</th>\n",
       "      <th>longitude</th>\n",
       "      <th>stars</th>\n",
       "      <th>review_count</th>\n",
       "      <th>is_open</th>\n",
       "      <th>attributes</th>\n",
       "      <th>categories</th>\n",
       "      <th>hours</th>\n",
       "    </tr>\n",
       "  </thead>\n",
       "  <tbody>\n",
       "    <tr>\n",
       "      <th>0</th>\n",
       "      <td>Pns2l4eNsfO8kk83dixA6A</td>\n",
       "      <td>Abby Rappoport, LAC, CMQ</td>\n",
       "      <td>1616 Chapala St, Ste 2</td>\n",
       "      <td>Santa Barbara</td>\n",
       "      <td>CA</td>\n",
       "      <td>93101</td>\n",
       "      <td>34.426679</td>\n",
       "      <td>-119.711197</td>\n",
       "      <td>5.0</td>\n",
       "      <td>7</td>\n",
       "      <td>0</td>\n",
       "      <td>{'ByAppointmentOnly': 'True'}</td>\n",
       "      <td>Doctors, Traditional Chinese Medicine, Naturop...</td>\n",
       "      <td>None</td>\n",
       "    </tr>\n",
       "    <tr>\n",
       "      <th>1</th>\n",
       "      <td>mpf3x-BjTdTEA3yCZrAYPw</td>\n",
       "      <td>The UPS Store</td>\n",
       "      <td>87 Grasso Plaza Shopping Center</td>\n",
       "      <td>Affton</td>\n",
       "      <td>MO</td>\n",
       "      <td>63123</td>\n",
       "      <td>38.551126</td>\n",
       "      <td>-90.335695</td>\n",
       "      <td>3.0</td>\n",
       "      <td>15</td>\n",
       "      <td>1</td>\n",
       "      <td>{'BusinessAcceptsCreditCards': 'True'}</td>\n",
       "      <td>Shipping Centers, Local Services, Notaries, Ma...</td>\n",
       "      <td>{'Monday': '0:0-0:0', 'Tuesday': '8:0-18:30', ...</td>\n",
       "    </tr>\n",
       "    <tr>\n",
       "      <th>2</th>\n",
       "      <td>tUFrWirKiKi_TAnsVWINQQ</td>\n",
       "      <td>Target</td>\n",
       "      <td>5255 E Broadway Blvd</td>\n",
       "      <td>Tucson</td>\n",
       "      <td>AZ</td>\n",
       "      <td>85711</td>\n",
       "      <td>32.223236</td>\n",
       "      <td>-110.880452</td>\n",
       "      <td>3.5</td>\n",
       "      <td>22</td>\n",
       "      <td>0</td>\n",
       "      <td>{'BikeParking': 'True', 'BusinessAcceptsCredit...</td>\n",
       "      <td>Department Stores, Shopping, Fashion, Home &amp; G...</td>\n",
       "      <td>{'Monday': '8:0-22:0', 'Tuesday': '8:0-22:0', ...</td>\n",
       "    </tr>\n",
       "    <tr>\n",
       "      <th>3</th>\n",
       "      <td>MTSW4McQd7CbVtyjqoe9mw</td>\n",
       "      <td>St Honore Pastries</td>\n",
       "      <td>935 Race St</td>\n",
       "      <td>Philadelphia</td>\n",
       "      <td>PA</td>\n",
       "      <td>19107</td>\n",
       "      <td>39.955505</td>\n",
       "      <td>-75.155564</td>\n",
       "      <td>4.0</td>\n",
       "      <td>80</td>\n",
       "      <td>1</td>\n",
       "      <td>{'RestaurantsDelivery': 'False', 'OutdoorSeati...</td>\n",
       "      <td>Restaurants, Food, Bubble Tea, Coffee &amp; Tea, B...</td>\n",
       "      <td>{'Monday': '7:0-20:0', 'Tuesday': '7:0-20:0', ...</td>\n",
       "    </tr>\n",
       "    <tr>\n",
       "      <th>4</th>\n",
       "      <td>mWMc6_wTdE0EUBKIGXDVfA</td>\n",
       "      <td>Perkiomen Valley Brewery</td>\n",
       "      <td>101 Walnut St</td>\n",
       "      <td>Green Lane</td>\n",
       "      <td>PA</td>\n",
       "      <td>18054</td>\n",
       "      <td>40.338183</td>\n",
       "      <td>-75.471659</td>\n",
       "      <td>4.5</td>\n",
       "      <td>13</td>\n",
       "      <td>1</td>\n",
       "      <td>{'BusinessAcceptsCreditCards': 'True', 'Wheelc...</td>\n",
       "      <td>Brewpubs, Breweries, Food</td>\n",
       "      <td>{'Wednesday': '14:0-22:0', 'Thursday': '16:0-2...</td>\n",
       "    </tr>\n",
       "  </tbody>\n",
       "</table>\n",
       "</div>"
      ],
      "text/plain": [
       "              business_id                      name  \\\n",
       "0  Pns2l4eNsfO8kk83dixA6A  Abby Rappoport, LAC, CMQ   \n",
       "1  mpf3x-BjTdTEA3yCZrAYPw             The UPS Store   \n",
       "2  tUFrWirKiKi_TAnsVWINQQ                    Target   \n",
       "3  MTSW4McQd7CbVtyjqoe9mw        St Honore Pastries   \n",
       "4  mWMc6_wTdE0EUBKIGXDVfA  Perkiomen Valley Brewery   \n",
       "\n",
       "                           address           city state postal_code  \\\n",
       "0           1616 Chapala St, Ste 2  Santa Barbara    CA       93101   \n",
       "1  87 Grasso Plaza Shopping Center         Affton    MO       63123   \n",
       "2             5255 E Broadway Blvd         Tucson    AZ       85711   \n",
       "3                      935 Race St   Philadelphia    PA       19107   \n",
       "4                    101 Walnut St     Green Lane    PA       18054   \n",
       "\n",
       "    latitude   longitude  stars  review_count  is_open  \\\n",
       "0  34.426679 -119.711197    5.0             7        0   \n",
       "1  38.551126  -90.335695    3.0            15        1   \n",
       "2  32.223236 -110.880452    3.5            22        0   \n",
       "3  39.955505  -75.155564    4.0            80        1   \n",
       "4  40.338183  -75.471659    4.5            13        1   \n",
       "\n",
       "                                          attributes  \\\n",
       "0                      {'ByAppointmentOnly': 'True'}   \n",
       "1             {'BusinessAcceptsCreditCards': 'True'}   \n",
       "2  {'BikeParking': 'True', 'BusinessAcceptsCredit...   \n",
       "3  {'RestaurantsDelivery': 'False', 'OutdoorSeati...   \n",
       "4  {'BusinessAcceptsCreditCards': 'True', 'Wheelc...   \n",
       "\n",
       "                                          categories  \\\n",
       "0  Doctors, Traditional Chinese Medicine, Naturop...   \n",
       "1  Shipping Centers, Local Services, Notaries, Ma...   \n",
       "2  Department Stores, Shopping, Fashion, Home & G...   \n",
       "3  Restaurants, Food, Bubble Tea, Coffee & Tea, B...   \n",
       "4                          Brewpubs, Breweries, Food   \n",
       "\n",
       "                                               hours  \n",
       "0                                               None  \n",
       "1  {'Monday': '0:0-0:0', 'Tuesday': '8:0-18:30', ...  \n",
       "2  {'Monday': '8:0-22:0', 'Tuesday': '8:0-22:0', ...  \n",
       "3  {'Monday': '7:0-20:0', 'Tuesday': '7:0-20:0', ...  \n",
       "4  {'Wednesday': '14:0-22:0', 'Thursday': '16:0-2...  "
      ]
     },
     "execution_count": 4,
     "metadata": {},
     "output_type": "execute_result"
    }
   ],
   "source": [
    "business.head()"
   ]
  },
  {
   "cell_type": "markdown",
   "metadata": {},
   "source": [
    "Restaurants and cafes are the businesses that we care about, so let's filter our business dataframe by category."
   ]
  },
  {
   "cell_type": "code",
   "execution_count": 5,
   "metadata": {},
   "outputs": [],
   "source": [
    "def identify_restaurants(data, keywords):\n",
    "    keywords = [keyword.lower() for keyword in keywords]\n",
    "    def check_categories(category):\n",
    "        return any(keyword in category.lower() for keyword in keywords)\n",
    "    return data[data['categories'].apply(check_categories)]"
   ]
  },
  {
   "cell_type": "code",
   "execution_count": 6,
   "metadata": {},
   "outputs": [
    {
     "data": {
      "text/html": [
       "<div>\n",
       "<style scoped>\n",
       "    .dataframe tbody tr th:only-of-type {\n",
       "        vertical-align: middle;\n",
       "    }\n",
       "\n",
       "    .dataframe tbody tr th {\n",
       "        vertical-align: top;\n",
       "    }\n",
       "\n",
       "    .dataframe thead th {\n",
       "        text-align: right;\n",
       "    }\n",
       "</style>\n",
       "<table border=\"1\" class=\"dataframe\">\n",
       "  <thead>\n",
       "    <tr style=\"text-align: right;\">\n",
       "      <th></th>\n",
       "      <th>business_id</th>\n",
       "      <th>name</th>\n",
       "      <th>address</th>\n",
       "      <th>city</th>\n",
       "      <th>state</th>\n",
       "      <th>postal_code</th>\n",
       "      <th>latitude</th>\n",
       "      <th>longitude</th>\n",
       "      <th>stars</th>\n",
       "      <th>review_count</th>\n",
       "      <th>is_open</th>\n",
       "      <th>attributes</th>\n",
       "      <th>categories</th>\n",
       "      <th>hours</th>\n",
       "    </tr>\n",
       "  </thead>\n",
       "  <tbody>\n",
       "    <tr>\n",
       "      <th>3</th>\n",
       "      <td>MTSW4McQd7CbVtyjqoe9mw</td>\n",
       "      <td>St Honore Pastries</td>\n",
       "      <td>935 Race St</td>\n",
       "      <td>Philadelphia</td>\n",
       "      <td>PA</td>\n",
       "      <td>19107</td>\n",
       "      <td>39.955505</td>\n",
       "      <td>-75.155564</td>\n",
       "      <td>4.0</td>\n",
       "      <td>80</td>\n",
       "      <td>1</td>\n",
       "      <td>{'RestaurantsDelivery': 'False', 'OutdoorSeati...</td>\n",
       "      <td>Restaurants, Food, Bubble Tea, Coffee &amp; Tea, B...</td>\n",
       "      <td>{'Monday': '7:0-20:0', 'Tuesday': '7:0-20:0', ...</td>\n",
       "    </tr>\n",
       "    <tr>\n",
       "      <th>5</th>\n",
       "      <td>CF33F8-E6oudUQ46HnavjQ</td>\n",
       "      <td>Sonic Drive-In</td>\n",
       "      <td>615 S Main St</td>\n",
       "      <td>Ashland City</td>\n",
       "      <td>TN</td>\n",
       "      <td>37015</td>\n",
       "      <td>36.269593</td>\n",
       "      <td>-87.058943</td>\n",
       "      <td>2.0</td>\n",
       "      <td>6</td>\n",
       "      <td>1</td>\n",
       "      <td>{'BusinessParking': 'None', 'BusinessAcceptsCr...</td>\n",
       "      <td>Burgers, Fast Food, Sandwiches, Food, Ice Crea...</td>\n",
       "      <td>{'Monday': '0:0-0:0', 'Tuesday': '6:0-22:0', '...</td>\n",
       "    </tr>\n",
       "    <tr>\n",
       "      <th>8</th>\n",
       "      <td>k0hlBqXX-Bt0vf1op7Jr1w</td>\n",
       "      <td>Tsevi's Pub And Grill</td>\n",
       "      <td>8025 Mackenzie Rd</td>\n",
       "      <td>Affton</td>\n",
       "      <td>MO</td>\n",
       "      <td>63123</td>\n",
       "      <td>38.565165</td>\n",
       "      <td>-90.321087</td>\n",
       "      <td>3.0</td>\n",
       "      <td>19</td>\n",
       "      <td>0</td>\n",
       "      <td>{'Caters': 'True', 'Alcohol': 'u'full_bar'', '...</td>\n",
       "      <td>Pubs, Restaurants, Italian, Bars, American (Tr...</td>\n",
       "      <td>None</td>\n",
       "    </tr>\n",
       "    <tr>\n",
       "      <th>9</th>\n",
       "      <td>bBDDEgkFA1Otx9Lfe7BZUQ</td>\n",
       "      <td>Sonic Drive-In</td>\n",
       "      <td>2312 Dickerson Pike</td>\n",
       "      <td>Nashville</td>\n",
       "      <td>TN</td>\n",
       "      <td>37207</td>\n",
       "      <td>36.208102</td>\n",
       "      <td>-86.768170</td>\n",
       "      <td>1.5</td>\n",
       "      <td>10</td>\n",
       "      <td>1</td>\n",
       "      <td>{'RestaurantsAttire': ''casual'', 'Restaurants...</td>\n",
       "      <td>Ice Cream &amp; Frozen Yogurt, Fast Food, Burgers,...</td>\n",
       "      <td>{'Monday': '0:0-0:0', 'Tuesday': '6:0-21:0', '...</td>\n",
       "    </tr>\n",
       "    <tr>\n",
       "      <th>11</th>\n",
       "      <td>eEOYSgkmpB90uNA7lDOMRA</td>\n",
       "      <td>Vietnamese Food Truck</td>\n",
       "      <td></td>\n",
       "      <td>Tampa Bay</td>\n",
       "      <td>FL</td>\n",
       "      <td>33602</td>\n",
       "      <td>27.955269</td>\n",
       "      <td>-82.456320</td>\n",
       "      <td>4.0</td>\n",
       "      <td>10</td>\n",
       "      <td>1</td>\n",
       "      <td>{'Alcohol': ''none'', 'OutdoorSeating': 'None'...</td>\n",
       "      <td>Vietnamese, Food, Restaurants, Food Trucks</td>\n",
       "      <td>{'Monday': '11:0-14:0', 'Tuesday': '11:0-14:0'...</td>\n",
       "    </tr>\n",
       "    <tr>\n",
       "      <th>...</th>\n",
       "      <td>...</td>\n",
       "      <td>...</td>\n",
       "      <td>...</td>\n",
       "      <td>...</td>\n",
       "      <td>...</td>\n",
       "      <td>...</td>\n",
       "      <td>...</td>\n",
       "      <td>...</td>\n",
       "      <td>...</td>\n",
       "      <td>...</td>\n",
       "      <td>...</td>\n",
       "      <td>...</td>\n",
       "      <td>...</td>\n",
       "      <td>...</td>\n",
       "    </tr>\n",
       "    <tr>\n",
       "      <th>150327</th>\n",
       "      <td>cM6V90ExQD6KMSU3rRB5ZA</td>\n",
       "      <td>Dutch Bros Coffee</td>\n",
       "      <td>1181 N Milwaukee St</td>\n",
       "      <td>Boise</td>\n",
       "      <td>ID</td>\n",
       "      <td>83704</td>\n",
       "      <td>43.615401</td>\n",
       "      <td>-116.284689</td>\n",
       "      <td>4.0</td>\n",
       "      <td>33</td>\n",
       "      <td>1</td>\n",
       "      <td>{'WiFi': ''free'', 'RestaurantsGoodForGroups':...</td>\n",
       "      <td>Cafes, Juice Bars &amp; Smoothies, Coffee &amp; Tea, R...</td>\n",
       "      <td>{'Monday': '0:0-0:0', 'Tuesday': '0:0-17:0', '...</td>\n",
       "    </tr>\n",
       "    <tr>\n",
       "      <th>150328</th>\n",
       "      <td>1jx1sfgjgVg0nM6n3p0xWA</td>\n",
       "      <td>Savaya Coffee Market</td>\n",
       "      <td>11177 N Oracle Rd</td>\n",
       "      <td>Oro Valley</td>\n",
       "      <td>AZ</td>\n",
       "      <td>85737</td>\n",
       "      <td>32.409552</td>\n",
       "      <td>-110.943073</td>\n",
       "      <td>4.5</td>\n",
       "      <td>41</td>\n",
       "      <td>1</td>\n",
       "      <td>{'BusinessParking': '{'garage': False, 'street...</td>\n",
       "      <td>Specialty Food, Food, Coffee &amp; Tea, Coffee Roa...</td>\n",
       "      <td>{'Monday': '0:0-0:0', 'Tuesday': '6:0-14:0', '...</td>\n",
       "    </tr>\n",
       "    <tr>\n",
       "      <th>150336</th>\n",
       "      <td>WnT9NIzQgLlILjPT0kEcsQ</td>\n",
       "      <td>Adelita Taqueria &amp; Restaurant</td>\n",
       "      <td>1108 S 9th St</td>\n",
       "      <td>Philadelphia</td>\n",
       "      <td>PA</td>\n",
       "      <td>19147</td>\n",
       "      <td>39.935982</td>\n",
       "      <td>-75.158665</td>\n",
       "      <td>4.5</td>\n",
       "      <td>35</td>\n",
       "      <td>1</td>\n",
       "      <td>{'WheelchairAccessible': 'False', 'Restaurants...</td>\n",
       "      <td>Restaurants, Mexican</td>\n",
       "      <td>{'Monday': '11:0-22:0', 'Tuesday': '11:0-22:0'...</td>\n",
       "    </tr>\n",
       "    <tr>\n",
       "      <th>150339</th>\n",
       "      <td>2O2K6SXPWv56amqxCECd4w</td>\n",
       "      <td>The Plum Pit</td>\n",
       "      <td>4405 Pennell Rd</td>\n",
       "      <td>Aston</td>\n",
       "      <td>DE</td>\n",
       "      <td>19014</td>\n",
       "      <td>39.856185</td>\n",
       "      <td>-75.427725</td>\n",
       "      <td>4.5</td>\n",
       "      <td>14</td>\n",
       "      <td>1</td>\n",
       "      <td>{'RestaurantsDelivery': 'False', 'BusinessAcce...</td>\n",
       "      <td>Restaurants, Comfort Food, Food, Food Trucks, ...</td>\n",
       "      <td>{'Monday': '0:0-0:0', 'Tuesday': '0:0-0:0', 'W...</td>\n",
       "    </tr>\n",
       "    <tr>\n",
       "      <th>150340</th>\n",
       "      <td>hn9Toz3s-Ei3uZPt7esExA</td>\n",
       "      <td>West Side Kebab House</td>\n",
       "      <td>2470 Guardian Road NW</td>\n",
       "      <td>Edmonton</td>\n",
       "      <td>AB</td>\n",
       "      <td>T5T 1K8</td>\n",
       "      <td>53.509649</td>\n",
       "      <td>-113.675999</td>\n",
       "      <td>4.5</td>\n",
       "      <td>18</td>\n",
       "      <td>0</td>\n",
       "      <td>{'Ambience': '{'touristy': False, 'hipster': F...</td>\n",
       "      <td>Middle Eastern, Restaurants</td>\n",
       "      <td>{'Monday': '11:0-22:0', 'Tuesday': '11:0-22:0'...</td>\n",
       "    </tr>\n",
       "  </tbody>\n",
       "</table>\n",
       "<p>54918 rows × 14 columns</p>\n",
       "</div>"
      ],
      "text/plain": [
       "                   business_id                           name  \\\n",
       "3       MTSW4McQd7CbVtyjqoe9mw             St Honore Pastries   \n",
       "5       CF33F8-E6oudUQ46HnavjQ                 Sonic Drive-In   \n",
       "8       k0hlBqXX-Bt0vf1op7Jr1w          Tsevi's Pub And Grill   \n",
       "9       bBDDEgkFA1Otx9Lfe7BZUQ                 Sonic Drive-In   \n",
       "11      eEOYSgkmpB90uNA7lDOMRA          Vietnamese Food Truck   \n",
       "...                        ...                            ...   \n",
       "150327  cM6V90ExQD6KMSU3rRB5ZA              Dutch Bros Coffee   \n",
       "150328  1jx1sfgjgVg0nM6n3p0xWA           Savaya Coffee Market   \n",
       "150336  WnT9NIzQgLlILjPT0kEcsQ  Adelita Taqueria & Restaurant   \n",
       "150339  2O2K6SXPWv56amqxCECd4w                   The Plum Pit   \n",
       "150340  hn9Toz3s-Ei3uZPt7esExA          West Side Kebab House   \n",
       "\n",
       "                      address          city state postal_code   latitude  \\\n",
       "3                 935 Race St  Philadelphia    PA       19107  39.955505   \n",
       "5               615 S Main St  Ashland City    TN       37015  36.269593   \n",
       "8           8025 Mackenzie Rd        Affton    MO       63123  38.565165   \n",
       "9         2312 Dickerson Pike     Nashville    TN       37207  36.208102   \n",
       "11                                Tampa Bay    FL       33602  27.955269   \n",
       "...                       ...           ...   ...         ...        ...   \n",
       "150327    1181 N Milwaukee St         Boise    ID       83704  43.615401   \n",
       "150328      11177 N Oracle Rd    Oro Valley    AZ       85737  32.409552   \n",
       "150336          1108 S 9th St  Philadelphia    PA       19147  39.935982   \n",
       "150339        4405 Pennell Rd         Aston    DE       19014  39.856185   \n",
       "150340  2470 Guardian Road NW      Edmonton    AB     T5T 1K8  53.509649   \n",
       "\n",
       "         longitude  stars  review_count  is_open  \\\n",
       "3       -75.155564    4.0            80        1   \n",
       "5       -87.058943    2.0             6        1   \n",
       "8       -90.321087    3.0            19        0   \n",
       "9       -86.768170    1.5            10        1   \n",
       "11      -82.456320    4.0            10        1   \n",
       "...            ...    ...           ...      ...   \n",
       "150327 -116.284689    4.0            33        1   \n",
       "150328 -110.943073    4.5            41        1   \n",
       "150336  -75.158665    4.5            35        1   \n",
       "150339  -75.427725    4.5            14        1   \n",
       "150340 -113.675999    4.5            18        0   \n",
       "\n",
       "                                               attributes  \\\n",
       "3       {'RestaurantsDelivery': 'False', 'OutdoorSeati...   \n",
       "5       {'BusinessParking': 'None', 'BusinessAcceptsCr...   \n",
       "8       {'Caters': 'True', 'Alcohol': 'u'full_bar'', '...   \n",
       "9       {'RestaurantsAttire': ''casual'', 'Restaurants...   \n",
       "11      {'Alcohol': ''none'', 'OutdoorSeating': 'None'...   \n",
       "...                                                   ...   \n",
       "150327  {'WiFi': ''free'', 'RestaurantsGoodForGroups':...   \n",
       "150328  {'BusinessParking': '{'garage': False, 'street...   \n",
       "150336  {'WheelchairAccessible': 'False', 'Restaurants...   \n",
       "150339  {'RestaurantsDelivery': 'False', 'BusinessAcce...   \n",
       "150340  {'Ambience': '{'touristy': False, 'hipster': F...   \n",
       "\n",
       "                                               categories  \\\n",
       "3       Restaurants, Food, Bubble Tea, Coffee & Tea, B...   \n",
       "5       Burgers, Fast Food, Sandwiches, Food, Ice Crea...   \n",
       "8       Pubs, Restaurants, Italian, Bars, American (Tr...   \n",
       "9       Ice Cream & Frozen Yogurt, Fast Food, Burgers,...   \n",
       "11             Vietnamese, Food, Restaurants, Food Trucks   \n",
       "...                                                   ...   \n",
       "150327  Cafes, Juice Bars & Smoothies, Coffee & Tea, R...   \n",
       "150328  Specialty Food, Food, Coffee & Tea, Coffee Roa...   \n",
       "150336                               Restaurants, Mexican   \n",
       "150339  Restaurants, Comfort Food, Food, Food Trucks, ...   \n",
       "150340                        Middle Eastern, Restaurants   \n",
       "\n",
       "                                                    hours  \n",
       "3       {'Monday': '7:0-20:0', 'Tuesday': '7:0-20:0', ...  \n",
       "5       {'Monday': '0:0-0:0', 'Tuesday': '6:0-22:0', '...  \n",
       "8                                                    None  \n",
       "9       {'Monday': '0:0-0:0', 'Tuesday': '6:0-21:0', '...  \n",
       "11      {'Monday': '11:0-14:0', 'Tuesday': '11:0-14:0'...  \n",
       "...                                                   ...  \n",
       "150327  {'Monday': '0:0-0:0', 'Tuesday': '0:0-17:0', '...  \n",
       "150328  {'Monday': '0:0-0:0', 'Tuesday': '6:0-14:0', '...  \n",
       "150336  {'Monday': '11:0-22:0', 'Tuesday': '11:0-22:0'...  \n",
       "150339  {'Monday': '0:0-0:0', 'Tuesday': '0:0-0:0', 'W...  \n",
       "150340  {'Monday': '11:0-22:0', 'Tuesday': '11:0-22:0'...  \n",
       "\n",
       "[54918 rows x 14 columns]"
      ]
     },
     "execution_count": 6,
     "metadata": {},
     "output_type": "execute_result"
    }
   ],
   "source": [
    "keywords = ['Restaurants', 'Coffee & Tea']\n",
    "business = identify_restaurants(business, keywords)\n",
    "business"
   ]
  },
  {
   "cell_type": "code",
   "execution_count": 7,
   "metadata": {},
   "outputs": [
    {
     "data": {
      "text/plain": [
       "city\n",
       "Philadelphia        6171\n",
       "Tampa               3119\n",
       "Indianapolis        3004\n",
       "Tucson              2623\n",
       "Nashville           2612\n",
       "New Orleans         2369\n",
       "Edmonton            2321\n",
       "Saint Louis         1836\n",
       "Reno                1396\n",
       "Boise                912\n",
       "Santa Barbara        812\n",
       "Clearwater           712\n",
       "Wilmington           638\n",
       "St. Louis            573\n",
       "Metairie             543\n",
       "Saint Petersburg     523\n",
       "Franklin             463\n",
       "St. Petersburg       427\n",
       "Sparks               363\n",
       "Brandon              342\n",
       "Meridian             338\n",
       "Largo                327\n",
       "Carmel               314\n",
       "Cherry Hill          313\n",
       "West Chester         292\n",
       "New Port Richey      238\n",
       "Kenner               236\n",
       "Goleta               232\n",
       "Greenwood            221\n",
       "Fishers              218\n",
       "Name: count, dtype: int64"
      ]
     },
     "execution_count": 7,
     "metadata": {},
     "output_type": "execute_result"
    }
   ],
   "source": [
    "business['city'].value_counts()[:30]"
   ]
  },
  {
   "cell_type": "markdown",
   "metadata": {},
   "source": [
    "From above we can see that the dataset has data for restaurants from many different cities. We will pick a few and find universities/colleges within to base our research around. Our initial selection was based on the top cities (with most reviews) in our dataset. However, upon further analysis, we identified that 51% of the cities in the top 29 in our dataset didn't have universities that fit our research criteria. We then refined our list to only include cities with universities in the city limits."
   ]
  },
  {
   "cell_type": "code",
   "execution_count": 8,
   "metadata": {},
   "outputs": [],
   "source": [
    "universities = pd.read_csv('./yelp_dataset/universities.csv')"
   ]
  },
  {
   "cell_type": "code",
   "execution_count": 9,
   "metadata": {},
   "outputs": [],
   "source": [
    "universities = universities.set_index('City')"
   ]
  },
  {
   "cell_type": "code",
   "execution_count": 10,
   "metadata": {
    "scrolled": true
   },
   "outputs": [
    {
     "data": {
      "text/html": [
       "<div>\n",
       "<style scoped>\n",
       "    .dataframe tbody tr th:only-of-type {\n",
       "        vertical-align: middle;\n",
       "    }\n",
       "\n",
       "    .dataframe tbody tr th {\n",
       "        vertical-align: top;\n",
       "    }\n",
       "\n",
       "    .dataframe thead th {\n",
       "        text-align: right;\n",
       "    }\n",
       "</style>\n",
       "<table border=\"1\" class=\"dataframe\">\n",
       "  <thead>\n",
       "    <tr style=\"text-align: right;\">\n",
       "      <th></th>\n",
       "      <th>Country</th>\n",
       "      <th>State</th>\n",
       "      <th>University Name</th>\n",
       "      <th>Latitude</th>\n",
       "      <th>Longitude</th>\n",
       "    </tr>\n",
       "    <tr>\n",
       "      <th>City</th>\n",
       "      <th></th>\n",
       "      <th></th>\n",
       "      <th></th>\n",
       "      <th></th>\n",
       "      <th></th>\n",
       "    </tr>\n",
       "  </thead>\n",
       "  <tbody>\n",
       "    <tr>\n",
       "      <th>Philadelphia</th>\n",
       "      <td>USA</td>\n",
       "      <td>Pennsylvania</td>\n",
       "      <td>University of Pennsylvania</td>\n",
       "      <td>39.952583</td>\n",
       "      <td>-75.191975</td>\n",
       "    </tr>\n",
       "    <tr>\n",
       "      <th>Tucson</th>\n",
       "      <td>USA</td>\n",
       "      <td>Arizona</td>\n",
       "      <td>University of Arizona Tuscon</td>\n",
       "      <td>32.221664</td>\n",
       "      <td>-110.948922</td>\n",
       "    </tr>\n",
       "    <tr>\n",
       "      <th>Tampa</th>\n",
       "      <td>USA</td>\n",
       "      <td>Florida</td>\n",
       "      <td>University of South Florida</td>\n",
       "      <td>28.051836</td>\n",
       "      <td>-82.400005</td>\n",
       "    </tr>\n",
       "    <tr>\n",
       "      <th>Indianapolis</th>\n",
       "      <td>USA</td>\n",
       "      <td>Indiana</td>\n",
       "      <td>Purdue University</td>\n",
       "      <td>39.776709</td>\n",
       "      <td>-86.170811</td>\n",
       "    </tr>\n",
       "    <tr>\n",
       "      <th>Nashville</th>\n",
       "      <td>USA</td>\n",
       "      <td>Tennessee</td>\n",
       "      <td>Vanderbilt University</td>\n",
       "      <td>36.145532</td>\n",
       "      <td>-86.804060</td>\n",
       "    </tr>\n",
       "    <tr>\n",
       "      <th>New Orleans</th>\n",
       "      <td>USA</td>\n",
       "      <td>Louisiana</td>\n",
       "      <td>Tulane University</td>\n",
       "      <td>29.958586</td>\n",
       "      <td>-90.064997</td>\n",
       "    </tr>\n",
       "    <tr>\n",
       "      <th>Reno</th>\n",
       "      <td>USA</td>\n",
       "      <td>Nevada</td>\n",
       "      <td>University of Nevada</td>\n",
       "      <td>39.534642</td>\n",
       "      <td>-119.812831</td>\n",
       "    </tr>\n",
       "    <tr>\n",
       "      <th>Edmonton</th>\n",
       "      <td>Canada</td>\n",
       "      <td>Alberta</td>\n",
       "      <td>University of Alberta</td>\n",
       "      <td>53.523219</td>\n",
       "      <td>-113.523219</td>\n",
       "    </tr>\n",
       "    <tr>\n",
       "      <th>St. Louis</th>\n",
       "      <td>USA</td>\n",
       "      <td>Missouri</td>\n",
       "      <td>Washington University in St. Louis</td>\n",
       "      <td>38.628900</td>\n",
       "      <td>-90.307200</td>\n",
       "    </tr>\n",
       "    <tr>\n",
       "      <th>Santa Barbara</th>\n",
       "      <td>USA</td>\n",
       "      <td>California</td>\n",
       "      <td>UC Santa Barbara</td>\n",
       "      <td>34.413953</td>\n",
       "      <td>-119.848956</td>\n",
       "    </tr>\n",
       "  </tbody>\n",
       "</table>\n",
       "</div>"
      ],
      "text/plain": [
       "              Country         State                     University Name  \\\n",
       "City                                                                      \n",
       "Philadelphia      USA  Pennsylvania          University of Pennsylvania   \n",
       "Tucson            USA       Arizona        University of Arizona Tuscon   \n",
       "Tampa             USA       Florida         University of South Florida   \n",
       "Indianapolis      USA       Indiana                   Purdue University   \n",
       "Nashville         USA     Tennessee               Vanderbilt University   \n",
       "New Orleans       USA     Louisiana                   Tulane University   \n",
       "Reno              USA        Nevada                University of Nevada   \n",
       "Edmonton       Canada       Alberta               University of Alberta   \n",
       "St. Louis         USA      Missouri  Washington University in St. Louis   \n",
       "Santa Barbara     USA    California                    UC Santa Barbara   \n",
       "\n",
       "                Latitude   Longitude  \n",
       "City                                  \n",
       "Philadelphia   39.952583  -75.191975  \n",
       "Tucson         32.221664 -110.948922  \n",
       "Tampa          28.051836  -82.400005  \n",
       "Indianapolis   39.776709  -86.170811  \n",
       "Nashville      36.145532  -86.804060  \n",
       "New Orleans    29.958586  -90.064997  \n",
       "Reno           39.534642 -119.812831  \n",
       "Edmonton       53.523219 -113.523219  \n",
       "St. Louis      38.628900  -90.307200  \n",
       "Santa Barbara  34.413953 -119.848956  "
      ]
     },
     "execution_count": 10,
     "metadata": {},
     "output_type": "execute_result"
    }
   ],
   "source": [
    "universities"
   ]
  },
  {
   "cell_type": "markdown",
   "metadata": {},
   "source": [
    "Let's also filter our business dataframe to only include businesses inside these cities."
   ]
  },
  {
   "cell_type": "code",
   "execution_count": 11,
   "metadata": {},
   "outputs": [
    {
     "data": {
      "text/plain": [
       "city\n",
       "Philadelphia     6171\n",
       "Tampa            3119\n",
       "Indianapolis     3004\n",
       "Tucson           2623\n",
       "Nashville        2612\n",
       "New Orleans      2369\n",
       "Edmonton         2321\n",
       "Reno             1396\n",
       "Santa Barbara     812\n",
       "St. Louis         573\n",
       "Name: count, dtype: int64"
      ]
     },
     "execution_count": 11,
     "metadata": {},
     "output_type": "execute_result"
    }
   ],
   "source": [
    "business = business[business['city'].isin(universities.index)]\n",
    "business['city'].value_counts()"
   ]
  },
  {
   "cell_type": "markdown",
   "metadata": {},
   "source": [
    "We can then use this information on universities to calculate whether a business is close or far from a university using their latitude and longitude positions."
   ]
  },
  {
   "cell_type": "code",
   "execution_count": 12,
   "metadata": {},
   "outputs": [],
   "source": [
    "# this is a lat long distance calculator from https://community.esri.com/t5/coordinate-reference-systems-blog/distance-on-a-sphere-the-haversine-formula/ba-p/902128#:~:text=All%20of%20these%20can%20be,longitude%20of%20the%20two%20points\n",
    "\n",
    "def haversine(coord1, coord2):\n",
    "    import math\n",
    "\n",
    "    # Coordinates in decimal degrees (e.g. 2.89078, 12.79797)\n",
    "    lon1, lat1 = coord1\n",
    "    lon2, lat2 = coord2\n",
    "\n",
    "    R = 6371000  # radius of Earth in meters\n",
    "    phi_1 = math.radians(lat1)\n",
    "    phi_2 = math.radians(lat2)\n",
    "\n",
    "    delta_phi = math.radians(lat2 - lat1)\n",
    "    delta_lambda = math.radians(lon2 - lon1)\n",
    "\n",
    "    a = math.sin(delta_phi / 2.0)**2 + math.cos(phi_1) * math.cos(phi_2) * math.sin(delta_lambda / 2.0)**2\n",
    "\n",
    "    c = 2 * math.atan2(math.sqrt(a), math.sqrt(1 - a))\n",
    "\n",
    "    meters = R * c  # output distance in meters\n",
    "    km = meters / 1000.0  # output distance in kilometers\n",
    "\n",
    "    meters = round(meters, 3)\n",
    "    km = round(km, 3)\n",
    "\n",
    "\n",
    "#     print(f\"Distance: {meters} m\")\n",
    "#     print(f\"Distance: {km} km‍‍‍‍‍‍‍‍‍‍‍‍‍‍‍‍‍‍‍‍‍‍‍‍‍‍‍‍‍‍‍‍‍‍‍‍‍‍‍‍‍‍‍‍‍‍‍‍‍‍‍‍‍‍‍‍‍‍‍‍‍‍‍‍‍‍‍‍‍‍‍‍‍‍‍‍‍‍‍‍‍‍‍‍‍‍‍‍‍‍‍‍‍‍‍‍‍‍‍‍‍‍‍‍‍‍‍‍‍‍‍‍‍‍‍‍‍‍‍‍‍‍‍‍‍‍‍‍‍‍‍‍‍‍‍‍‍‍‍‍‍‍‍‍‍‍‍‍‍‍‍‍‍‍‍‍‍‍‍‍‍‍‍‍‍‍‍‍‍‍‍‍‍‍‍‍‍‍‍‍‍‍‍‍‍‍‍‍‍‍‍‍‍‍‍‍‍‍‍‍‍‍‍‍‍‍‍‍‍‍‍‍‍‍‍‍‍‍‍‍‍‍‍‍‍‍‍‍‍‍‍‍‍‍‍‍‍‍‍‍‍‍‍‍‍‍‍‍‍‍‍‍‍‍‍‍‍‍‍‍‍‍‍‍‍‍‍‍‍‍‍‍‍‍‍‍‍‍‍‍‍‍‍‍‍‍‍‍‍‍‍‍‍‍‍‍‍‍‍‍‍‍‍‍‍‍‍‍‍‍‍\")\n",
    "    return km"
   ]
  },
  {
   "cell_type": "code",
   "execution_count": 13,
   "metadata": {},
   "outputs": [],
   "source": [
    "def calc_distance(df):\n",
    "    new_df = df.copy()\n",
    "    lat, long = universities.loc[df['city'], ['Latitude', 'Longitude']]\n",
    "    lat1, long1 = df[['latitude', 'longitude']]\n",
    "    # threshold 5 km\n",
    "    new_df['close_to_university'] = haversine((lat, long), (lat1, long1)) < 5\n",
    "    return new_df"
   ]
  },
  {
   "cell_type": "markdown",
   "metadata": {},
   "source": [
    "We decided to use a threshold value of 10 km. A business would be considered close to an university/college if it is within 10 km of one and far otherwise."
   ]
  },
  {
   "cell_type": "code",
   "execution_count": 14,
   "metadata": {},
   "outputs": [],
   "source": [
    "business = business.apply(calc_distance, axis=1)"
   ]
  },
  {
   "cell_type": "markdown",
   "metadata": {},
   "source": [
    "Now let's create a dataframe for our reviews. There are simply too many reviews (6990280!) and the kernel cannot handle loading that many observations into memory, thus we have cut down the file using python to just the first 100000 reviews."
   ]
  },
  {
   "cell_type": "code",
   "execution_count": 15,
   "metadata": {},
   "outputs": [],
   "source": [
    "review = pd.read_json('https://drive.usercontent.google.com/download?id=1xE5dbDWd1Mp8kFQwoMmtLVj5xPq9tpuG&confirm=xxx', lines=True)"
   ]
  },
  {
   "cell_type": "code",
   "execution_count": 16,
   "metadata": {},
   "outputs": [
    {
     "data": {
      "text/html": [
       "<div>\n",
       "<style scoped>\n",
       "    .dataframe tbody tr th:only-of-type {\n",
       "        vertical-align: middle;\n",
       "    }\n",
       "\n",
       "    .dataframe tbody tr th {\n",
       "        vertical-align: top;\n",
       "    }\n",
       "\n",
       "    .dataframe thead th {\n",
       "        text-align: right;\n",
       "    }\n",
       "</style>\n",
       "<table border=\"1\" class=\"dataframe\">\n",
       "  <thead>\n",
       "    <tr style=\"text-align: right;\">\n",
       "      <th></th>\n",
       "      <th>review_id</th>\n",
       "      <th>user_id</th>\n",
       "      <th>business_id</th>\n",
       "      <th>stars</th>\n",
       "      <th>useful</th>\n",
       "      <th>funny</th>\n",
       "      <th>cool</th>\n",
       "      <th>text</th>\n",
       "      <th>date</th>\n",
       "    </tr>\n",
       "  </thead>\n",
       "  <tbody>\n",
       "    <tr>\n",
       "      <th>0</th>\n",
       "      <td>KU_O5udG6zpxOg-VcAEodg</td>\n",
       "      <td>mh_-eMZ6K5RLWhZyISBhwA</td>\n",
       "      <td>XQfwVwDr-v0ZS3_CbbE5Xw</td>\n",
       "      <td>3</td>\n",
       "      <td>0</td>\n",
       "      <td>0</td>\n",
       "      <td>0</td>\n",
       "      <td>If you decide to eat here, just be aware it is...</td>\n",
       "      <td>2018-07-07 22:09:11</td>\n",
       "    </tr>\n",
       "    <tr>\n",
       "      <th>1</th>\n",
       "      <td>BiTunyQ73aT9WBnpR9DZGw</td>\n",
       "      <td>OyoGAe7OKpv6SyGZT5g77Q</td>\n",
       "      <td>7ATYjTIgM3jUlt4UM3IypQ</td>\n",
       "      <td>5</td>\n",
       "      <td>1</td>\n",
       "      <td>0</td>\n",
       "      <td>1</td>\n",
       "      <td>I've taken a lot of spin classes over the year...</td>\n",
       "      <td>2012-01-03 15:28:18</td>\n",
       "    </tr>\n",
       "    <tr>\n",
       "      <th>2</th>\n",
       "      <td>saUsX_uimxRlCVr67Z4Jig</td>\n",
       "      <td>8g_iMtfSiwikVnbP2etR0A</td>\n",
       "      <td>YjUWPpI6HXG530lwP-fb2A</td>\n",
       "      <td>3</td>\n",
       "      <td>0</td>\n",
       "      <td>0</td>\n",
       "      <td>0</td>\n",
       "      <td>Family diner. Had the buffet. Eclectic assortm...</td>\n",
       "      <td>2014-02-05 20:30:30</td>\n",
       "    </tr>\n",
       "    <tr>\n",
       "      <th>3</th>\n",
       "      <td>AqPFMleE6RsU23_auESxiA</td>\n",
       "      <td>_7bHUi9Uuf5__HHc_Q8guQ</td>\n",
       "      <td>kxX2SOes4o-D3ZQBkiMRfA</td>\n",
       "      <td>5</td>\n",
       "      <td>1</td>\n",
       "      <td>0</td>\n",
       "      <td>1</td>\n",
       "      <td>Wow!  Yummy, different,  delicious.   Our favo...</td>\n",
       "      <td>2015-01-04 00:01:03</td>\n",
       "    </tr>\n",
       "    <tr>\n",
       "      <th>4</th>\n",
       "      <td>Sx8TMOWLNuJBWer-0pcmoA</td>\n",
       "      <td>bcjbaE6dDog4jkNY91ncLQ</td>\n",
       "      <td>e4Vwtrqf-wpJfwesgvdgxQ</td>\n",
       "      <td>4</td>\n",
       "      <td>1</td>\n",
       "      <td>0</td>\n",
       "      <td>1</td>\n",
       "      <td>Cute interior and owner (?) gave us tour of up...</td>\n",
       "      <td>2017-01-14 20:54:15</td>\n",
       "    </tr>\n",
       "  </tbody>\n",
       "</table>\n",
       "</div>"
      ],
      "text/plain": [
       "                review_id                 user_id             business_id  \\\n",
       "0  KU_O5udG6zpxOg-VcAEodg  mh_-eMZ6K5RLWhZyISBhwA  XQfwVwDr-v0ZS3_CbbE5Xw   \n",
       "1  BiTunyQ73aT9WBnpR9DZGw  OyoGAe7OKpv6SyGZT5g77Q  7ATYjTIgM3jUlt4UM3IypQ   \n",
       "2  saUsX_uimxRlCVr67Z4Jig  8g_iMtfSiwikVnbP2etR0A  YjUWPpI6HXG530lwP-fb2A   \n",
       "3  AqPFMleE6RsU23_auESxiA  _7bHUi9Uuf5__HHc_Q8guQ  kxX2SOes4o-D3ZQBkiMRfA   \n",
       "4  Sx8TMOWLNuJBWer-0pcmoA  bcjbaE6dDog4jkNY91ncLQ  e4Vwtrqf-wpJfwesgvdgxQ   \n",
       "\n",
       "   stars  useful  funny  cool  \\\n",
       "0      3       0      0     0   \n",
       "1      5       1      0     1   \n",
       "2      3       0      0     0   \n",
       "3      5       1      0     1   \n",
       "4      4       1      0     1   \n",
       "\n",
       "                                                text                date  \n",
       "0  If you decide to eat here, just be aware it is... 2018-07-07 22:09:11  \n",
       "1  I've taken a lot of spin classes over the year... 2012-01-03 15:28:18  \n",
       "2  Family diner. Had the buffet. Eclectic assortm... 2014-02-05 20:30:30  \n",
       "3  Wow!  Yummy, different,  delicious.   Our favo... 2015-01-04 00:01:03  \n",
       "4  Cute interior and owner (?) gave us tour of up... 2017-01-14 20:54:15  "
      ]
     },
     "execution_count": 16,
     "metadata": {},
     "output_type": "execute_result"
    }
   ],
   "source": [
    "review.head()"
   ]
  },
  {
   "cell_type": "markdown",
   "metadata": {},
   "source": [
    "Again we drop observations with missing values in the important variables."
   ]
  },
  {
   "cell_type": "code",
   "execution_count": 17,
   "metadata": {},
   "outputs": [
    {
     "data": {
      "text/html": [
       "<div>\n",
       "<style scoped>\n",
       "    .dataframe tbody tr th:only-of-type {\n",
       "        vertical-align: middle;\n",
       "    }\n",
       "\n",
       "    .dataframe tbody tr th {\n",
       "        vertical-align: top;\n",
       "    }\n",
       "\n",
       "    .dataframe thead th {\n",
       "        text-align: right;\n",
       "    }\n",
       "</style>\n",
       "<table border=\"1\" class=\"dataframe\">\n",
       "  <thead>\n",
       "    <tr style=\"text-align: right;\">\n",
       "      <th></th>\n",
       "      <th>review_id</th>\n",
       "      <th>user_id</th>\n",
       "      <th>business_id</th>\n",
       "      <th>stars</th>\n",
       "      <th>useful</th>\n",
       "      <th>funny</th>\n",
       "      <th>cool</th>\n",
       "      <th>text</th>\n",
       "      <th>date</th>\n",
       "    </tr>\n",
       "  </thead>\n",
       "  <tbody>\n",
       "    <tr>\n",
       "      <th>0</th>\n",
       "      <td>KU_O5udG6zpxOg-VcAEodg</td>\n",
       "      <td>mh_-eMZ6K5RLWhZyISBhwA</td>\n",
       "      <td>XQfwVwDr-v0ZS3_CbbE5Xw</td>\n",
       "      <td>3</td>\n",
       "      <td>0</td>\n",
       "      <td>0</td>\n",
       "      <td>0</td>\n",
       "      <td>If you decide to eat here, just be aware it is...</td>\n",
       "      <td>2018-07-07 22:09:11</td>\n",
       "    </tr>\n",
       "    <tr>\n",
       "      <th>1</th>\n",
       "      <td>BiTunyQ73aT9WBnpR9DZGw</td>\n",
       "      <td>OyoGAe7OKpv6SyGZT5g77Q</td>\n",
       "      <td>7ATYjTIgM3jUlt4UM3IypQ</td>\n",
       "      <td>5</td>\n",
       "      <td>1</td>\n",
       "      <td>0</td>\n",
       "      <td>1</td>\n",
       "      <td>I've taken a lot of spin classes over the year...</td>\n",
       "      <td>2012-01-03 15:28:18</td>\n",
       "    </tr>\n",
       "    <tr>\n",
       "      <th>2</th>\n",
       "      <td>saUsX_uimxRlCVr67Z4Jig</td>\n",
       "      <td>8g_iMtfSiwikVnbP2etR0A</td>\n",
       "      <td>YjUWPpI6HXG530lwP-fb2A</td>\n",
       "      <td>3</td>\n",
       "      <td>0</td>\n",
       "      <td>0</td>\n",
       "      <td>0</td>\n",
       "      <td>Family diner. Had the buffet. Eclectic assortm...</td>\n",
       "      <td>2014-02-05 20:30:30</td>\n",
       "    </tr>\n",
       "    <tr>\n",
       "      <th>3</th>\n",
       "      <td>AqPFMleE6RsU23_auESxiA</td>\n",
       "      <td>_7bHUi9Uuf5__HHc_Q8guQ</td>\n",
       "      <td>kxX2SOes4o-D3ZQBkiMRfA</td>\n",
       "      <td>5</td>\n",
       "      <td>1</td>\n",
       "      <td>0</td>\n",
       "      <td>1</td>\n",
       "      <td>Wow!  Yummy, different,  delicious.   Our favo...</td>\n",
       "      <td>2015-01-04 00:01:03</td>\n",
       "    </tr>\n",
       "    <tr>\n",
       "      <th>4</th>\n",
       "      <td>Sx8TMOWLNuJBWer-0pcmoA</td>\n",
       "      <td>bcjbaE6dDog4jkNY91ncLQ</td>\n",
       "      <td>e4Vwtrqf-wpJfwesgvdgxQ</td>\n",
       "      <td>4</td>\n",
       "      <td>1</td>\n",
       "      <td>0</td>\n",
       "      <td>1</td>\n",
       "      <td>Cute interior and owner (?) gave us tour of up...</td>\n",
       "      <td>2017-01-14 20:54:15</td>\n",
       "    </tr>\n",
       "    <tr>\n",
       "      <th>...</th>\n",
       "      <td>...</td>\n",
       "      <td>...</td>\n",
       "      <td>...</td>\n",
       "      <td>...</td>\n",
       "      <td>...</td>\n",
       "      <td>...</td>\n",
       "      <td>...</td>\n",
       "      <td>...</td>\n",
       "      <td>...</td>\n",
       "    </tr>\n",
       "    <tr>\n",
       "      <th>99995</th>\n",
       "      <td>pAEbIxvr6ebx2bHc1XvguA</td>\n",
       "      <td>SMH5CeiLvKx61lKwtLZ_PA</td>\n",
       "      <td>lV0k3BnslFRkuWD_kbKd0Q</td>\n",
       "      <td>4</td>\n",
       "      <td>0</td>\n",
       "      <td>0</td>\n",
       "      <td>0</td>\n",
       "      <td>Came here for lunch with a group. They were bu...</td>\n",
       "      <td>2018-05-30 22:28:56</td>\n",
       "    </tr>\n",
       "    <tr>\n",
       "      <th>99996</th>\n",
       "      <td>xH1AoE-4nf2ECGQJRjO4_g</td>\n",
       "      <td>2clTdtp-BjphxLjN83CpUA</td>\n",
       "      <td>G0xz3kyRhRi6oZl7KfR0pA</td>\n",
       "      <td>1</td>\n",
       "      <td>1</td>\n",
       "      <td>0</td>\n",
       "      <td>0</td>\n",
       "      <td>The equipment is so old and so felty! I just u...</td>\n",
       "      <td>2015-04-05 23:31:52</td>\n",
       "    </tr>\n",
       "    <tr>\n",
       "      <th>99997</th>\n",
       "      <td>GatIbXTz-WDru5emONUSIg</td>\n",
       "      <td>MRrN6DH3QGCFcDv5RENYVg</td>\n",
       "      <td>C4lZdhasjZVQyDlOiXY1sA</td>\n",
       "      <td>4</td>\n",
       "      <td>0</td>\n",
       "      <td>0</td>\n",
       "      <td>0</td>\n",
       "      <td>This is one of my favorite Mexican restaurants...</td>\n",
       "      <td>2016-06-04 00:59:15</td>\n",
       "    </tr>\n",
       "    <tr>\n",
       "      <th>99998</th>\n",
       "      <td>6NfkodAdhvI89xONXuBC3A</td>\n",
       "      <td>rnNQzeKJbvqVCsYsL10mkQ</td>\n",
       "      <td>dChRGpit9fM_kZK5pafNyA</td>\n",
       "      <td>2</td>\n",
       "      <td>0</td>\n",
       "      <td>0</td>\n",
       "      <td>0</td>\n",
       "      <td>Came here for brunch - had an omlette ($19 + t...</td>\n",
       "      <td>2018-06-11 12:45:08</td>\n",
       "    </tr>\n",
       "    <tr>\n",
       "      <th>99999</th>\n",
       "      <td>sJ1BMq7lkKgOWEFx3n6ZRw</td>\n",
       "      <td>_BcWyKQL16ndpBdggh2kNA</td>\n",
       "      <td>hMcgO98QaOFmQVTfCUeGzw</td>\n",
       "      <td>5</td>\n",
       "      <td>0</td>\n",
       "      <td>0</td>\n",
       "      <td>0</td>\n",
       "      <td>Came in for my 5-6 month prophy and saw Kara -...</td>\n",
       "      <td>2013-06-06 10:10:33</td>\n",
       "    </tr>\n",
       "  </tbody>\n",
       "</table>\n",
       "<p>100000 rows × 9 columns</p>\n",
       "</div>"
      ],
      "text/plain": [
       "                    review_id                 user_id             business_id  \\\n",
       "0      KU_O5udG6zpxOg-VcAEodg  mh_-eMZ6K5RLWhZyISBhwA  XQfwVwDr-v0ZS3_CbbE5Xw   \n",
       "1      BiTunyQ73aT9WBnpR9DZGw  OyoGAe7OKpv6SyGZT5g77Q  7ATYjTIgM3jUlt4UM3IypQ   \n",
       "2      saUsX_uimxRlCVr67Z4Jig  8g_iMtfSiwikVnbP2etR0A  YjUWPpI6HXG530lwP-fb2A   \n",
       "3      AqPFMleE6RsU23_auESxiA  _7bHUi9Uuf5__HHc_Q8guQ  kxX2SOes4o-D3ZQBkiMRfA   \n",
       "4      Sx8TMOWLNuJBWer-0pcmoA  bcjbaE6dDog4jkNY91ncLQ  e4Vwtrqf-wpJfwesgvdgxQ   \n",
       "...                       ...                     ...                     ...   \n",
       "99995  pAEbIxvr6ebx2bHc1XvguA  SMH5CeiLvKx61lKwtLZ_PA  lV0k3BnslFRkuWD_kbKd0Q   \n",
       "99996  xH1AoE-4nf2ECGQJRjO4_g  2clTdtp-BjphxLjN83CpUA  G0xz3kyRhRi6oZl7KfR0pA   \n",
       "99997  GatIbXTz-WDru5emONUSIg  MRrN6DH3QGCFcDv5RENYVg  C4lZdhasjZVQyDlOiXY1sA   \n",
       "99998  6NfkodAdhvI89xONXuBC3A  rnNQzeKJbvqVCsYsL10mkQ  dChRGpit9fM_kZK5pafNyA   \n",
       "99999  sJ1BMq7lkKgOWEFx3n6ZRw  _BcWyKQL16ndpBdggh2kNA  hMcgO98QaOFmQVTfCUeGzw   \n",
       "\n",
       "       stars  useful  funny  cool  \\\n",
       "0          3       0      0     0   \n",
       "1          5       1      0     1   \n",
       "2          3       0      0     0   \n",
       "3          5       1      0     1   \n",
       "4          4       1      0     1   \n",
       "...      ...     ...    ...   ...   \n",
       "99995      4       0      0     0   \n",
       "99996      1       1      0     0   \n",
       "99997      4       0      0     0   \n",
       "99998      2       0      0     0   \n",
       "99999      5       0      0     0   \n",
       "\n",
       "                                                    text                date  \n",
       "0      If you decide to eat here, just be aware it is... 2018-07-07 22:09:11  \n",
       "1      I've taken a lot of spin classes over the year... 2012-01-03 15:28:18  \n",
       "2      Family diner. Had the buffet. Eclectic assortm... 2014-02-05 20:30:30  \n",
       "3      Wow!  Yummy, different,  delicious.   Our favo... 2015-01-04 00:01:03  \n",
       "4      Cute interior and owner (?) gave us tour of up... 2017-01-14 20:54:15  \n",
       "...                                                  ...                 ...  \n",
       "99995  Came here for lunch with a group. They were bu... 2018-05-30 22:28:56  \n",
       "99996  The equipment is so old and so felty! I just u... 2015-04-05 23:31:52  \n",
       "99997  This is one of my favorite Mexican restaurants... 2016-06-04 00:59:15  \n",
       "99998  Came here for brunch - had an omlette ($19 + t... 2018-06-11 12:45:08  \n",
       "99999  Came in for my 5-6 month prophy and saw Kara -... 2013-06-06 10:10:33  \n",
       "\n",
       "[100000 rows x 9 columns]"
      ]
     },
     "execution_count": 17,
     "metadata": {},
     "output_type": "execute_result"
    }
   ],
   "source": [
    "review.dropna(subset=['stars', 'text'])"
   ]
  },
  {
   "cell_type": "markdown",
   "metadata": {},
   "source": [
    "To figure out which reviews are written by college students, we queried reviews that have any mention of words related to them. To do this, we chose keywords such as student, students, college, colleges, university, universities, and uni. These keywords were chosen in the hopes that the review was written by a person who is mentioning their status as a student to be used as their way of reliability to other reviewees.\n",
    "\n",
    "We also want to disclose concerns of using such a method. By querying reviews written by students this way, we could be counting false positives and missing false negatives. In this case, a false positive is when a review incorrectly classifies a non-student's review as a student, while a false negative is when a review incorrectly classifies a student's review as a non-student. Here are a few examples:\n",
    "1. False Positive: A non-student brought up a \"college\" nearby.\n",
    "2. False Positive: The \"students\" mentioned in a review could be students in highschool, not college.\n",
    "3. False Positive: A non-student talks about how a restaurant is often visited by many \"students\"\n",
    "4. False Negative: The review could have been written by a student, but the person did not mention that they were a student in their review."
   ]
  },
  {
   "cell_type": "code",
   "execution_count": 18,
   "metadata": {},
   "outputs": [],
   "source": [
    "def identify_student_reviews(data, keywords):\n",
    "\n",
    "    keywords = [keyword.lower() for keyword in keywords]\n",
    "\n",
    "\n",
    "    def check_keywords(review):\n",
    "\n",
    "        return any(keyword in review.lower() for keyword in keywords)\n",
    "\n",
    "    data['student_or_not'] = data['text'].apply(check_keywords)\n",
    "    return data"
   ]
  },
  {
   "cell_type": "code",
   "execution_count": 19,
   "metadata": {},
   "outputs": [],
   "source": [
    "keywords = ['student', 'students', 'college', 'colleges', 'university', 'universities', 'uni', \"univ\", \"penn\", \"upenn\", \"ua\", \"uarizona\", \"usf\", \"purdue\", \"vanderbilt\", \"vandy\", \"vu\", \"unr\", \"u of a\", \"ualberta\", \"washu\", \"wustl\", \"ucsb\", \"uc\"]\n",
    "review_student = identify_student_reviews(review, keywords)"
   ]
  },
  {
   "cell_type": "markdown",
   "metadata": {},
   "source": [
    "We have included some common abbreviations of the universities/colleges we are focusing our analysis around. Below are the translations:\n",
    "- University of Pennsylvania\n",
    "    - Penn\n",
    "    - UPenn\n",
    "- University of Arizona Tuscon\n",
    "    - UA\n",
    "    - UArizona\n",
    "- University of South Florida\n",
    "    - USF\n",
    "- Purdue University\n",
    "    - Purdue\n",
    "- Vanderbilt University\n",
    "    - Vanderbilt\n",
    "    - Vandy\n",
    "    - VU\n",
    "- Tulane University\n",
    "    - We could not find any informal names for Tulane University.\n",
    "- University of Nevada\n",
    "    - UNR\n",
    "- University of Alberta\n",
    "    - U of A\n",
    "    - UAlberta\n",
    "- Washington University in St. Louis\n",
    "    - WashU\n",
    "    - WUSTL\n",
    "- UC Santa Barbara\n",
    "    - UCSB"
   ]
  },
  {
   "cell_type": "code",
   "execution_count": 20,
   "metadata": {},
   "outputs": [
    {
     "data": {
      "text/html": [
       "<div>\n",
       "<style scoped>\n",
       "    .dataframe tbody tr th:only-of-type {\n",
       "        vertical-align: middle;\n",
       "    }\n",
       "\n",
       "    .dataframe tbody tr th {\n",
       "        vertical-align: top;\n",
       "    }\n",
       "\n",
       "    .dataframe thead th {\n",
       "        text-align: right;\n",
       "    }\n",
       "</style>\n",
       "<table border=\"1\" class=\"dataframe\">\n",
       "  <thead>\n",
       "    <tr style=\"text-align: right;\">\n",
       "      <th></th>\n",
       "      <th>review_id</th>\n",
       "      <th>user_id</th>\n",
       "      <th>business_id</th>\n",
       "      <th>stars</th>\n",
       "      <th>useful</th>\n",
       "      <th>funny</th>\n",
       "      <th>cool</th>\n",
       "      <th>text</th>\n",
       "      <th>date</th>\n",
       "      <th>student_or_not</th>\n",
       "    </tr>\n",
       "  </thead>\n",
       "  <tbody>\n",
       "    <tr>\n",
       "      <th>0</th>\n",
       "      <td>KU_O5udG6zpxOg-VcAEodg</td>\n",
       "      <td>mh_-eMZ6K5RLWhZyISBhwA</td>\n",
       "      <td>XQfwVwDr-v0ZS3_CbbE5Xw</td>\n",
       "      <td>3</td>\n",
       "      <td>0</td>\n",
       "      <td>0</td>\n",
       "      <td>0</td>\n",
       "      <td>If you decide to eat here, just be aware it is...</td>\n",
       "      <td>2018-07-07 22:09:11</td>\n",
       "      <td>True</td>\n",
       "    </tr>\n",
       "    <tr>\n",
       "      <th>1</th>\n",
       "      <td>BiTunyQ73aT9WBnpR9DZGw</td>\n",
       "      <td>OyoGAe7OKpv6SyGZT5g77Q</td>\n",
       "      <td>7ATYjTIgM3jUlt4UM3IypQ</td>\n",
       "      <td>5</td>\n",
       "      <td>1</td>\n",
       "      <td>0</td>\n",
       "      <td>1</td>\n",
       "      <td>I've taken a lot of spin classes over the year...</td>\n",
       "      <td>2012-01-03 15:28:18</td>\n",
       "      <td>True</td>\n",
       "    </tr>\n",
       "    <tr>\n",
       "      <th>2</th>\n",
       "      <td>saUsX_uimxRlCVr67Z4Jig</td>\n",
       "      <td>8g_iMtfSiwikVnbP2etR0A</td>\n",
       "      <td>YjUWPpI6HXG530lwP-fb2A</td>\n",
       "      <td>3</td>\n",
       "      <td>0</td>\n",
       "      <td>0</td>\n",
       "      <td>0</td>\n",
       "      <td>Family diner. Had the buffet. Eclectic assortm...</td>\n",
       "      <td>2014-02-05 20:30:30</td>\n",
       "      <td>True</td>\n",
       "    </tr>\n",
       "    <tr>\n",
       "      <th>3</th>\n",
       "      <td>AqPFMleE6RsU23_auESxiA</td>\n",
       "      <td>_7bHUi9Uuf5__HHc_Q8guQ</td>\n",
       "      <td>kxX2SOes4o-D3ZQBkiMRfA</td>\n",
       "      <td>5</td>\n",
       "      <td>1</td>\n",
       "      <td>0</td>\n",
       "      <td>1</td>\n",
       "      <td>Wow!  Yummy, different,  delicious.   Our favo...</td>\n",
       "      <td>2015-01-04 00:01:03</td>\n",
       "      <td>False</td>\n",
       "    </tr>\n",
       "    <tr>\n",
       "      <th>4</th>\n",
       "      <td>Sx8TMOWLNuJBWer-0pcmoA</td>\n",
       "      <td>bcjbaE6dDog4jkNY91ncLQ</td>\n",
       "      <td>e4Vwtrqf-wpJfwesgvdgxQ</td>\n",
       "      <td>4</td>\n",
       "      <td>1</td>\n",
       "      <td>0</td>\n",
       "      <td>1</td>\n",
       "      <td>Cute interior and owner (?) gave us tour of up...</td>\n",
       "      <td>2017-01-14 20:54:15</td>\n",
       "      <td>True</td>\n",
       "    </tr>\n",
       "  </tbody>\n",
       "</table>\n",
       "</div>"
      ],
      "text/plain": [
       "                review_id                 user_id             business_id  \\\n",
       "0  KU_O5udG6zpxOg-VcAEodg  mh_-eMZ6K5RLWhZyISBhwA  XQfwVwDr-v0ZS3_CbbE5Xw   \n",
       "1  BiTunyQ73aT9WBnpR9DZGw  OyoGAe7OKpv6SyGZT5g77Q  7ATYjTIgM3jUlt4UM3IypQ   \n",
       "2  saUsX_uimxRlCVr67Z4Jig  8g_iMtfSiwikVnbP2etR0A  YjUWPpI6HXG530lwP-fb2A   \n",
       "3  AqPFMleE6RsU23_auESxiA  _7bHUi9Uuf5__HHc_Q8guQ  kxX2SOes4o-D3ZQBkiMRfA   \n",
       "4  Sx8TMOWLNuJBWer-0pcmoA  bcjbaE6dDog4jkNY91ncLQ  e4Vwtrqf-wpJfwesgvdgxQ   \n",
       "\n",
       "   stars  useful  funny  cool  \\\n",
       "0      3       0      0     0   \n",
       "1      5       1      0     1   \n",
       "2      3       0      0     0   \n",
       "3      5       1      0     1   \n",
       "4      4       1      0     1   \n",
       "\n",
       "                                                text                date  \\\n",
       "0  If you decide to eat here, just be aware it is... 2018-07-07 22:09:11   \n",
       "1  I've taken a lot of spin classes over the year... 2012-01-03 15:28:18   \n",
       "2  Family diner. Had the buffet. Eclectic assortm... 2014-02-05 20:30:30   \n",
       "3  Wow!  Yummy, different,  delicious.   Our favo... 2015-01-04 00:01:03   \n",
       "4  Cute interior and owner (?) gave us tour of up... 2017-01-14 20:54:15   \n",
       "\n",
       "   student_or_not  \n",
       "0            True  \n",
       "1            True  \n",
       "2            True  \n",
       "3           False  \n",
       "4            True  "
      ]
     },
     "execution_count": 20,
     "metadata": {},
     "output_type": "execute_result"
    }
   ],
   "source": [
    "review_student.head()"
   ]
  },
  {
   "cell_type": "markdown",
   "metadata": {},
   "source": [
    "We can then inner join these two dataframe's on business_id to get a dataframe where the observations are reviews with information on if the review was written by a student and if the business the review was written for is close or far from a university/college."
   ]
  },
  {
   "cell_type": "code",
   "execution_count": 21,
   "metadata": {},
   "outputs": [],
   "source": [
    "review_businesses = pd.merge(review_student, business, how='inner', on='business_id')"
   ]
  },
  {
   "cell_type": "markdown",
   "metadata": {},
   "source": [
    "Let's reduce this dataframe to the columns that we care about, namely the review rating, whether its written by a student, business' average rating, the amount of reviews that business has, and whether that business is close or far from a university/college."
   ]
  },
  {
   "cell_type": "code",
   "execution_count": 22,
   "metadata": {},
   "outputs": [],
   "source": [
    "review_businesses = review_businesses[['city', 'name', 'stars_x', 'student_or_not', 'stars_y', 'review_count', 'close_to_university']]\n",
    "review_businesses = review_businesses.rename(columns={'name': 'restaurant_name', 'stars_x': 'rating', 'stars_y': 'avg_rating'})"
   ]
  },
  {
   "cell_type": "code",
   "execution_count": 23,
   "metadata": {},
   "outputs": [
    {
     "data": {
      "text/html": [
       "<div>\n",
       "<style scoped>\n",
       "    .dataframe tbody tr th:only-of-type {\n",
       "        vertical-align: middle;\n",
       "    }\n",
       "\n",
       "    .dataframe tbody tr th {\n",
       "        vertical-align: top;\n",
       "    }\n",
       "\n",
       "    .dataframe thead th {\n",
       "        text-align: right;\n",
       "    }\n",
       "</style>\n",
       "<table border=\"1\" class=\"dataframe\">\n",
       "  <thead>\n",
       "    <tr style=\"text-align: right;\">\n",
       "      <th></th>\n",
       "      <th>city</th>\n",
       "      <th>restaurant_name</th>\n",
       "      <th>rating</th>\n",
       "      <th>student_or_not</th>\n",
       "      <th>avg_rating</th>\n",
       "      <th>review_count</th>\n",
       "      <th>close_to_university</th>\n",
       "    </tr>\n",
       "  </thead>\n",
       "  <tbody>\n",
       "    <tr>\n",
       "      <th>0</th>\n",
       "      <td>Tucson</td>\n",
       "      <td>Kettle Restaurant</td>\n",
       "      <td>3</td>\n",
       "      <td>True</td>\n",
       "      <td>3.5</td>\n",
       "      <td>47</td>\n",
       "      <td>True</td>\n",
       "    </tr>\n",
       "    <tr>\n",
       "      <th>1</th>\n",
       "      <td>Tucson</td>\n",
       "      <td>Kettle Restaurant</td>\n",
       "      <td>2</td>\n",
       "      <td>True</td>\n",
       "      <td>3.5</td>\n",
       "      <td>47</td>\n",
       "      <td>True</td>\n",
       "    </tr>\n",
       "    <tr>\n",
       "      <th>2</th>\n",
       "      <td>Tucson</td>\n",
       "      <td>Kettle Restaurant</td>\n",
       "      <td>5</td>\n",
       "      <td>False</td>\n",
       "      <td>3.5</td>\n",
       "      <td>47</td>\n",
       "      <td>True</td>\n",
       "    </tr>\n",
       "    <tr>\n",
       "      <th>3</th>\n",
       "      <td>Tucson</td>\n",
       "      <td>Kettle Restaurant</td>\n",
       "      <td>5</td>\n",
       "      <td>False</td>\n",
       "      <td>3.5</td>\n",
       "      <td>47</td>\n",
       "      <td>True</td>\n",
       "    </tr>\n",
       "    <tr>\n",
       "      <th>4</th>\n",
       "      <td>Tucson</td>\n",
       "      <td>Kettle Restaurant</td>\n",
       "      <td>3</td>\n",
       "      <td>False</td>\n",
       "      <td>3.5</td>\n",
       "      <td>47</td>\n",
       "      <td>True</td>\n",
       "    </tr>\n",
       "    <tr>\n",
       "      <th>...</th>\n",
       "      <td>...</td>\n",
       "      <td>...</td>\n",
       "      <td>...</td>\n",
       "      <td>...</td>\n",
       "      <td>...</td>\n",
       "      <td>...</td>\n",
       "      <td>...</td>\n",
       "    </tr>\n",
       "    <tr>\n",
       "      <th>44313</th>\n",
       "      <td>Edmonton</td>\n",
       "      <td>Dairy Queen Grill &amp; Chill</td>\n",
       "      <td>1</td>\n",
       "      <td>True</td>\n",
       "      <td>2.0</td>\n",
       "      <td>6</td>\n",
       "      <td>True</td>\n",
       "    </tr>\n",
       "    <tr>\n",
       "      <th>44314</th>\n",
       "      <td>Tampa</td>\n",
       "      <td>Grand China</td>\n",
       "      <td>5</td>\n",
       "      <td>False</td>\n",
       "      <td>3.5</td>\n",
       "      <td>19</td>\n",
       "      <td>False</td>\n",
       "    </tr>\n",
       "    <tr>\n",
       "      <th>44315</th>\n",
       "      <td>Philadelphia</td>\n",
       "      <td>Dough Boy Pizza</td>\n",
       "      <td>5</td>\n",
       "      <td>False</td>\n",
       "      <td>4.5</td>\n",
       "      <td>11</td>\n",
       "      <td>False</td>\n",
       "    </tr>\n",
       "    <tr>\n",
       "      <th>44316</th>\n",
       "      <td>Tucson</td>\n",
       "      <td>Burger King</td>\n",
       "      <td>3</td>\n",
       "      <td>False</td>\n",
       "      <td>1.5</td>\n",
       "      <td>21</td>\n",
       "      <td>True</td>\n",
       "    </tr>\n",
       "    <tr>\n",
       "      <th>44317</th>\n",
       "      <td>Edmonton</td>\n",
       "      <td>Versato's Pizza</td>\n",
       "      <td>5</td>\n",
       "      <td>False</td>\n",
       "      <td>4.5</td>\n",
       "      <td>24</td>\n",
       "      <td>False</td>\n",
       "    </tr>\n",
       "  </tbody>\n",
       "</table>\n",
       "<p>44318 rows × 7 columns</p>\n",
       "</div>"
      ],
      "text/plain": [
       "               city            restaurant_name  rating  student_or_not  \\\n",
       "0            Tucson          Kettle Restaurant       3            True   \n",
       "1            Tucson          Kettle Restaurant       2            True   \n",
       "2            Tucson          Kettle Restaurant       5           False   \n",
       "3            Tucson          Kettle Restaurant       5           False   \n",
       "4            Tucson          Kettle Restaurant       3           False   \n",
       "...             ...                        ...     ...             ...   \n",
       "44313      Edmonton  Dairy Queen Grill & Chill       1            True   \n",
       "44314         Tampa                Grand China       5           False   \n",
       "44315  Philadelphia            Dough Boy Pizza       5           False   \n",
       "44316        Tucson                Burger King       3           False   \n",
       "44317      Edmonton            Versato's Pizza       5           False   \n",
       "\n",
       "       avg_rating  review_count  close_to_university  \n",
       "0             3.5            47                 True  \n",
       "1             3.5            47                 True  \n",
       "2             3.5            47                 True  \n",
       "3             3.5            47                 True  \n",
       "4             3.5            47                 True  \n",
       "...           ...           ...                  ...  \n",
       "44313         2.0             6                 True  \n",
       "44314         3.5            19                False  \n",
       "44315         4.5            11                False  \n",
       "44316         1.5            21                 True  \n",
       "44317         4.5            24                False  \n",
       "\n",
       "[44318 rows x 7 columns]"
      ]
     },
     "execution_count": 23,
     "metadata": {},
     "output_type": "execute_result"
    }
   ],
   "source": [
    "review_businesses"
   ]
  },
  {
   "cell_type": "markdown",
   "metadata": {},
   "source": [
    "Note there are many restaurants with the same name, however as these are different restaurants of the same chain, we have decided to keep them as the information about close or far could be different would be useful to study there. The other reason is that there are many reviews for the same restaurant so in many cases it is still referring to the same restaurant."
   ]
  },
  {
   "cell_type": "markdown",
   "metadata": {},
   "source": [
    "# Results\n",
    "\n",
    "## Exploratory Data Analysis\n",
    "\n",
    "Now we can use the combined reviews and businesses dataframe to answer our research question: Do restaurants further from college/university campuses have higher or lower ratings than those that are closer? Can we determine if the reviewers of these restaurants are students and if so, do students increase or lower Yelp ratings at these restaurants?"
   ]
  },
  {
   "cell_type": "code",
   "execution_count": 24,
   "metadata": {},
   "outputs": [],
   "source": [
    "# import all the packages we need\n",
    "\n",
    "import seaborn as sns\n",
    "import matplotlib.pyplot as plt\n",
    "import patsy\n",
    "import statsmodels.api as sm"
   ]
  },
  {
   "cell_type": "markdown",
   "metadata": {},
   "source": [
    "### Average Ratings of Close vs Far Businesses\n",
    "\n",
    "First lets look at the counts of restuarants that are close and restaurants that are far from an university/college."
   ]
  },
  {
   "cell_type": "markdown",
   "metadata": {},
   "source": [
    "How many businesses are close to a university?"
   ]
  },
  {
   "cell_type": "code",
   "execution_count": 25,
   "metadata": {},
   "outputs": [
    {
     "data": {
      "text/plain": [
       "30248"
      ]
     },
     "execution_count": 25,
     "metadata": {},
     "output_type": "execute_result"
    }
   ],
   "source": [
    "review_businesses[review_businesses['close_to_university'] == True].shape[0]"
   ]
  },
  {
   "cell_type": "markdown",
   "metadata": {},
   "source": [
    "How many businesses are not close to a university?"
   ]
  },
  {
   "cell_type": "code",
   "execution_count": 26,
   "metadata": {},
   "outputs": [
    {
     "data": {
      "text/plain": [
       "14070"
      ]
     },
     "execution_count": 26,
     "metadata": {},
     "output_type": "execute_result"
    }
   ],
   "source": [
    "review_businesses[review_businesses['close_to_university'] == False].shape[0]"
   ]
  },
  {
   "cell_type": "markdown",
   "metadata": {},
   "source": [
    "Average rating for business close to the university"
   ]
  },
  {
   "cell_type": "code",
   "execution_count": 27,
   "metadata": {},
   "outputs": [
    {
     "data": {
      "text/plain": [
       "3.8469981486379266"
      ]
     },
     "execution_count": 27,
     "metadata": {},
     "output_type": "execute_result"
    }
   ],
   "source": [
    "review_businesses[review_businesses['close_to_university'] == True]['avg_rating'].mean()"
   ]
  },
  {
   "cell_type": "markdown",
   "metadata": {},
   "source": [
    "Average rating for businesses not close to the university"
   ]
  },
  {
   "cell_type": "code",
   "execution_count": 28,
   "metadata": {},
   "outputs": [
    {
     "data": {
      "text/plain": [
       "3.737775408670931"
      ]
     },
     "execution_count": 28,
     "metadata": {},
     "output_type": "execute_result"
    }
   ],
   "source": [
    "review_businesses[review_businesses['close_to_university'] == False]['avg_rating'].mean()"
   ]
  },
  {
   "cell_type": "code",
   "execution_count": 29,
   "metadata": {},
   "outputs": [
    {
     "data": {
      "text/plain": [
       "0.10922273996699561"
      ]
     },
     "execution_count": 29,
     "metadata": {},
     "output_type": "execute_result"
    }
   ],
   "source": [
    "test_statistic = review_businesses[review_businesses['close_to_university'] == True]['avg_rating'].mean() - review_businesses[review_businesses['close_to_university'] == False]['avg_rating'].mean()\n",
    "test_statistic"
   ]
  },
  {
   "cell_type": "markdown",
   "metadata": {},
   "source": [
    "When we compare the average ratings of restaurants close to and far from university campuses, the average ratings closer to the university are higher, but barely as their difference is less than 1. Because this difference is less than 1, we will be considering the average ratings to be similar. This similarity means that location and distance from a university does not have much impact on the average ratings of restaurants."
   ]
  },
  {
   "cell_type": "markdown",
   "metadata": {},
   "source": [
    "We'll be using this value as the test statistic to see whether this difference is observable by chance."
   ]
  },
  {
   "cell_type": "code",
   "execution_count": 30,
   "metadata": {},
   "outputs": [
    {
     "data": {
      "text/plain": [
       "0.0"
      ]
     },
     "execution_count": 30,
     "metadata": {},
     "output_type": "execute_result"
    },
    {
     "data": {
      "image/png": "[encoded data removed]",
      "text/plain": [
       "<Figure size 432x288 with 1 Axes>"
      ]
     },
     "metadata": {
      "needs_background": "light"
     },
     "output_type": "display_data"
    }
   ],
   "source": [
    "def permutation_tests():\n",
    "    diff_array = list()\n",
    "    shuffled_df = review_businesses.copy()\n",
    "    for i in range (1000):\n",
    "        shuffled_df['close_to_university'] = np.random.permutation(shuffled_df['close_to_university'])\n",
    "        close = shuffled_df[shuffled_df['close_to_university'] == True]['avg_rating'].mean()\n",
    "        not_close = shuffled_df[shuffled_df['close_to_university'] == False]['avg_rating'].mean()\n",
    "        diff_array.append((close-not_close))\n",
    "    return np.array(diff_array)\n",
    "\n",
    "results = permutation_tests()\n",
    "plt.hist(results)\n",
    "plt.xlabel('Difference in Means')\n",
    "plt.ylabel('Count')\n",
    "results.mean()\n",
    "np.mean(test_statistic < results)"
   ]
  },
  {
   "cell_type": "markdown",
   "metadata": {},
   "source": [
    "Since the test value is much less than 0.05, this is a statistically significant value, meaning that it is very unlikely that this relation is due to chance. However, even though it is statiscally significant, the difference between the average ratings is still very small and that means that distance doesn't have much of an impact on the overall average rating."
   ]
  },
  {
   "cell_type": "markdown",
   "metadata": {},
   "source": [
    "Lets check out the average ratings of these restaurants per university to see if we can find a difference from the above result. First lets see the number of close/far restaurants we have per university. (Note that since we only chose one university per city, the city name works as a groupby value.)"
   ]
  },
  {
   "cell_type": "code",
   "execution_count": 31,
   "metadata": {},
   "outputs": [
    {
     "data": {
      "text/html": [
       "<div>\n",
       "<style scoped>\n",
       "    .dataframe tbody tr th:only-of-type {\n",
       "        vertical-align: middle;\n",
       "    }\n",
       "\n",
       "    .dataframe tbody tr th {\n",
       "        vertical-align: top;\n",
       "    }\n",
       "\n",
       "    .dataframe thead th {\n",
       "        text-align: right;\n",
       "    }\n",
       "</style>\n",
       "<table border=\"1\" class=\"dataframe\">\n",
       "  <thead>\n",
       "    <tr style=\"text-align: right;\">\n",
       "      <th></th>\n",
       "      <th></th>\n",
       "      <th>count</th>\n",
       "    </tr>\n",
       "    <tr>\n",
       "      <th>city</th>\n",
       "      <th>close_to_university</th>\n",
       "      <th></th>\n",
       "    </tr>\n",
       "  </thead>\n",
       "  <tbody>\n",
       "    <tr>\n",
       "      <th rowspan=\"2\" valign=\"top\">Edmonton</th>\n",
       "      <th>True</th>\n",
       "      <td>786</td>\n",
       "    </tr>\n",
       "    <tr>\n",
       "      <th>False</th>\n",
       "      <td>309</td>\n",
       "    </tr>\n",
       "    <tr>\n",
       "      <th rowspan=\"2\" valign=\"top\">Indianapolis</th>\n",
       "      <th>True</th>\n",
       "      <td>2382</td>\n",
       "    </tr>\n",
       "    <tr>\n",
       "      <th>False</th>\n",
       "      <td>1290</td>\n",
       "    </tr>\n",
       "    <tr>\n",
       "      <th rowspan=\"2\" valign=\"top\">Nashville</th>\n",
       "      <th>True</th>\n",
       "      <td>3874</td>\n",
       "    </tr>\n",
       "    <tr>\n",
       "      <th>False</th>\n",
       "      <td>1549</td>\n",
       "    </tr>\n",
       "    <tr>\n",
       "      <th rowspan=\"2\" valign=\"top\">New Orleans</th>\n",
       "      <th>True</th>\n",
       "      <td>7911</td>\n",
       "    </tr>\n",
       "    <tr>\n",
       "      <th>False</th>\n",
       "      <td>508</td>\n",
       "    </tr>\n",
       "    <tr>\n",
       "      <th rowspan=\"2\" valign=\"top\">Philadelphia</th>\n",
       "      <th>True</th>\n",
       "      <td>9820</td>\n",
       "    </tr>\n",
       "    <tr>\n",
       "      <th>False</th>\n",
       "      <td>2797</td>\n",
       "    </tr>\n",
       "    <tr>\n",
       "      <th rowspan=\"2\" valign=\"top\">Reno</th>\n",
       "      <th>True</th>\n",
       "      <td>2271</td>\n",
       "    </tr>\n",
       "    <tr>\n",
       "      <th>False</th>\n",
       "      <td>664</td>\n",
       "    </tr>\n",
       "    <tr>\n",
       "      <th rowspan=\"2\" valign=\"top\">Santa Barbara</th>\n",
       "      <th>False</th>\n",
       "      <td>2125</td>\n",
       "    </tr>\n",
       "    <tr>\n",
       "      <th>True</th>\n",
       "      <td>2</td>\n",
       "    </tr>\n",
       "    <tr>\n",
       "      <th rowspan=\"2\" valign=\"top\">St. Louis</th>\n",
       "      <th>False</th>\n",
       "      <td>306</td>\n",
       "    </tr>\n",
       "    <tr>\n",
       "      <th>True</th>\n",
       "      <td>79</td>\n",
       "    </tr>\n",
       "    <tr>\n",
       "      <th rowspan=\"2\" valign=\"top\">Tampa</th>\n",
       "      <th>False</th>\n",
       "      <td>3385</td>\n",
       "    </tr>\n",
       "    <tr>\n",
       "      <th>True</th>\n",
       "      <td>768</td>\n",
       "    </tr>\n",
       "    <tr>\n",
       "      <th rowspan=\"2\" valign=\"top\">Tucson</th>\n",
       "      <th>True</th>\n",
       "      <td>2355</td>\n",
       "    </tr>\n",
       "    <tr>\n",
       "      <th>False</th>\n",
       "      <td>1137</td>\n",
       "    </tr>\n",
       "  </tbody>\n",
       "</table>\n",
       "</div>"
      ],
      "text/plain": [
       "                                   count\n",
       "city          close_to_university       \n",
       "Edmonton      True                   786\n",
       "              False                  309\n",
       "Indianapolis  True                  2382\n",
       "              False                 1290\n",
       "Nashville     True                  3874\n",
       "              False                 1549\n",
       "New Orleans   True                  7911\n",
       "              False                  508\n",
       "Philadelphia  True                  9820\n",
       "              False                 2797\n",
       "Reno          True                  2271\n",
       "              False                  664\n",
       "Santa Barbara False                 2125\n",
       "              True                     2\n",
       "St. Louis     False                  306\n",
       "              True                    79\n",
       "Tampa         False                 3385\n",
       "              True                   768\n",
       "Tucson        True                  2355\n",
       "              False                 1137"
      ]
     },
     "execution_count": 31,
     "metadata": {},
     "output_type": "execute_result"
    }
   ],
   "source": [
    "rb_counts = pd.DataFrame(review_businesses.groupby('city')['close_to_university'].value_counts())\n",
    "rb_counts"
   ]
  },
  {
   "cell_type": "markdown",
   "metadata": {},
   "source": [
    "For most universities/colleges in our above list, there is a big disparity between the number of restaurants that are close versus restaurants that are far. "
   ]
  },
  {
   "cell_type": "code",
   "execution_count": 32,
   "metadata": {},
   "outputs": [
    {
     "data": {
      "text/html": [
       "<div>\n",
       "<style scoped>\n",
       "    .dataframe tbody tr th:only-of-type {\n",
       "        vertical-align: middle;\n",
       "    }\n",
       "\n",
       "    .dataframe tbody tr th {\n",
       "        vertical-align: top;\n",
       "    }\n",
       "\n",
       "    .dataframe thead th {\n",
       "        text-align: right;\n",
       "    }\n",
       "</style>\n",
       "<table border=\"1\" class=\"dataframe\">\n",
       "  <thead>\n",
       "    <tr style=\"text-align: right;\">\n",
       "      <th></th>\n",
       "      <th></th>\n",
       "      <th>avg_rating</th>\n",
       "    </tr>\n",
       "    <tr>\n",
       "      <th>city</th>\n",
       "      <th>close_to_university</th>\n",
       "      <th></th>\n",
       "    </tr>\n",
       "  </thead>\n",
       "  <tbody>\n",
       "    <tr>\n",
       "      <th rowspan=\"2\" valign=\"top\">Edmonton</th>\n",
       "      <th>False</th>\n",
       "      <td>3.500000</td>\n",
       "    </tr>\n",
       "    <tr>\n",
       "      <th>True</th>\n",
       "      <td>3.666667</td>\n",
       "    </tr>\n",
       "    <tr>\n",
       "      <th rowspan=\"2\" valign=\"top\">Indianapolis</th>\n",
       "      <th>False</th>\n",
       "      <td>3.724031</td>\n",
       "    </tr>\n",
       "    <tr>\n",
       "      <th>True</th>\n",
       "      <td>3.930940</td>\n",
       "    </tr>\n",
       "    <tr>\n",
       "      <th rowspan=\"2\" valign=\"top\">Nashville</th>\n",
       "      <th>False</th>\n",
       "      <td>3.559716</td>\n",
       "    </tr>\n",
       "    <tr>\n",
       "      <th>True</th>\n",
       "      <td>3.809112</td>\n",
       "    </tr>\n",
       "    <tr>\n",
       "      <th rowspan=\"2\" valign=\"top\">New Orleans</th>\n",
       "      <th>False</th>\n",
       "      <td>3.820866</td>\n",
       "    </tr>\n",
       "    <tr>\n",
       "      <th>True</th>\n",
       "      <td>3.938693</td>\n",
       "    </tr>\n",
       "    <tr>\n",
       "      <th rowspan=\"2\" valign=\"top\">Philadelphia</th>\n",
       "      <th>False</th>\n",
       "      <td>3.747408</td>\n",
       "    </tr>\n",
       "    <tr>\n",
       "      <th>True</th>\n",
       "      <td>3.790733</td>\n",
       "    </tr>\n",
       "    <tr>\n",
       "      <th rowspan=\"2\" valign=\"top\">Reno</th>\n",
       "      <th>False</th>\n",
       "      <td>3.572289</td>\n",
       "    </tr>\n",
       "    <tr>\n",
       "      <th>True</th>\n",
       "      <td>3.854690</td>\n",
       "    </tr>\n",
       "    <tr>\n",
       "      <th rowspan=\"2\" valign=\"top\">Santa Barbara</th>\n",
       "      <th>False</th>\n",
       "      <td>3.900000</td>\n",
       "    </tr>\n",
       "    <tr>\n",
       "      <th>True</th>\n",
       "      <td>3.500000</td>\n",
       "    </tr>\n",
       "    <tr>\n",
       "      <th rowspan=\"2\" valign=\"top\">St. Louis</th>\n",
       "      <th>False</th>\n",
       "      <td>3.767974</td>\n",
       "    </tr>\n",
       "    <tr>\n",
       "      <th>True</th>\n",
       "      <td>2.955696</td>\n",
       "    </tr>\n",
       "    <tr>\n",
       "      <th rowspan=\"2\" valign=\"top\">Tampa</th>\n",
       "      <th>False</th>\n",
       "      <td>3.771935</td>\n",
       "    </tr>\n",
       "    <tr>\n",
       "      <th>True</th>\n",
       "      <td>3.769531</td>\n",
       "    </tr>\n",
       "    <tr>\n",
       "      <th rowspan=\"2\" valign=\"top\">Tucson</th>\n",
       "      <th>False</th>\n",
       "      <td>3.683377</td>\n",
       "    </tr>\n",
       "    <tr>\n",
       "      <th>True</th>\n",
       "      <td>3.859236</td>\n",
       "    </tr>\n",
       "  </tbody>\n",
       "</table>\n",
       "</div>"
      ],
      "text/plain": [
       "                                   avg_rating\n",
       "city          close_to_university            \n",
       "Edmonton      False                  3.500000\n",
       "              True                   3.666667\n",
       "Indianapolis  False                  3.724031\n",
       "              True                   3.930940\n",
       "Nashville     False                  3.559716\n",
       "              True                   3.809112\n",
       "New Orleans   False                  3.820866\n",
       "              True                   3.938693\n",
       "Philadelphia  False                  3.747408\n",
       "              True                   3.790733\n",
       "Reno          False                  3.572289\n",
       "              True                   3.854690\n",
       "Santa Barbara False                  3.900000\n",
       "              True                   3.500000\n",
       "St. Louis     False                  3.767974\n",
       "              True                   2.955696\n",
       "Tampa         False                  3.771935\n",
       "              True                   3.769531\n",
       "Tucson        False                  3.683377\n",
       "              True                   3.859236"
      ]
     },
     "execution_count": 32,
     "metadata": {},
     "output_type": "execute_result"
    }
   ],
   "source": [
    "rb_avgs = pd.DataFrame(review_businesses.groupby(['city', 'close_to_university'])['avg_rating'].mean())\n",
    "rb_avgs"
   ]
  },
  {
   "cell_type": "markdown",
   "metadata": {},
   "source": [
    "For most universities/colleges above, it seems that restuarants that are further from the university/college are recieving lower ratings on average than restaurants that are close."
   ]
  },
  {
   "cell_type": "markdown",
   "metadata": {},
   "source": [
    "### Linear Regression on Distance vs Ratings\n",
    "We can perform linear regression to see if distance from a chosen university is a predictor for Yelp ratings."
   ]
  },
  {
   "cell_type": "markdown",
   "metadata": {},
   "source": [
    "First let's create a new column for our dataframe that contains the distance from a university/college. We can adapt our calc_distance function from before to calculate distance by removing the threshold check. "
   ]
  },
  {
   "cell_type": "code",
   "execution_count": 33,
   "metadata": {},
   "outputs": [],
   "source": [
    "def calc_distance(df):\n",
    "    new_df = df.copy()\n",
    "    lat, long = universities.loc[df['city'], ['Latitude', 'Longitude']]\n",
    "    lat1, long1 = df[['latitude', 'longitude']]\n",
    "    new_df['distance'] = haversine((lat, long), (lat1, long1))\n",
    "    return new_df"
   ]
  },
  {
   "cell_type": "code",
   "execution_count": 34,
   "metadata": {},
   "outputs": [],
   "source": [
    "business_lg = business.apply(calc_distance, axis=1)"
   ]
  },
  {
   "cell_type": "code",
   "execution_count": 35,
   "metadata": {},
   "outputs": [
    {
     "data": {
      "text/html": [
       "<div>\n",
       "<style scoped>\n",
       "    .dataframe tbody tr th:only-of-type {\n",
       "        vertical-align: middle;\n",
       "    }\n",
       "\n",
       "    .dataframe tbody tr th {\n",
       "        vertical-align: top;\n",
       "    }\n",
       "\n",
       "    .dataframe thead th {\n",
       "        text-align: right;\n",
       "    }\n",
       "</style>\n",
       "<table border=\"1\" class=\"dataframe\">\n",
       "  <thead>\n",
       "    <tr style=\"text-align: right;\">\n",
       "      <th></th>\n",
       "      <th>business_id</th>\n",
       "      <th>name</th>\n",
       "      <th>address</th>\n",
       "      <th>city</th>\n",
       "      <th>state</th>\n",
       "      <th>postal_code</th>\n",
       "      <th>latitude</th>\n",
       "      <th>longitude</th>\n",
       "      <th>stars</th>\n",
       "      <th>review_count</th>\n",
       "      <th>is_open</th>\n",
       "      <th>attributes</th>\n",
       "      <th>categories</th>\n",
       "      <th>hours</th>\n",
       "      <th>close_to_university</th>\n",
       "      <th>distance</th>\n",
       "    </tr>\n",
       "  </thead>\n",
       "  <tbody>\n",
       "    <tr>\n",
       "      <th>3</th>\n",
       "      <td>MTSW4McQd7CbVtyjqoe9mw</td>\n",
       "      <td>St Honore Pastries</td>\n",
       "      <td>935 Race St</td>\n",
       "      <td>Philadelphia</td>\n",
       "      <td>PA</td>\n",
       "      <td>19107</td>\n",
       "      <td>39.955505</td>\n",
       "      <td>-75.155564</td>\n",
       "      <td>4.0</td>\n",
       "      <td>80</td>\n",
       "      <td>1</td>\n",
       "      <td>{'RestaurantsDelivery': 'False', 'OutdoorSeati...</td>\n",
       "      <td>Restaurants, Food, Bubble Tea, Coffee &amp; Tea, B...</td>\n",
       "      <td>{'Monday': '7:0-20:0', 'Tuesday': '7:0-20:0', ...</td>\n",
       "      <td>True</td>\n",
       "      <td>4.050</td>\n",
       "    </tr>\n",
       "    <tr>\n",
       "      <th>9</th>\n",
       "      <td>bBDDEgkFA1Otx9Lfe7BZUQ</td>\n",
       "      <td>Sonic Drive-In</td>\n",
       "      <td>2312 Dickerson Pike</td>\n",
       "      <td>Nashville</td>\n",
       "      <td>TN</td>\n",
       "      <td>37207</td>\n",
       "      <td>36.208102</td>\n",
       "      <td>-86.768170</td>\n",
       "      <td>1.5</td>\n",
       "      <td>10</td>\n",
       "      <td>1</td>\n",
       "      <td>{'RestaurantsAttire': ''casual'', 'Restaurants...</td>\n",
       "      <td>Ice Cream &amp; Frozen Yogurt, Fast Food, Burgers,...</td>\n",
       "      <td>{'Monday': '0:0-0:0', 'Tuesday': '6:0-21:0', '...</td>\n",
       "      <td>True</td>\n",
       "      <td>4.010</td>\n",
       "    </tr>\n",
       "    <tr>\n",
       "      <th>12</th>\n",
       "      <td>il_Ro8jwPlHresjw9EGmBg</td>\n",
       "      <td>Denny's</td>\n",
       "      <td>8901 US 31 S</td>\n",
       "      <td>Indianapolis</td>\n",
       "      <td>IN</td>\n",
       "      <td>46227</td>\n",
       "      <td>39.637133</td>\n",
       "      <td>-86.127217</td>\n",
       "      <td>2.5</td>\n",
       "      <td>28</td>\n",
       "      <td>1</td>\n",
       "      <td>{'RestaurantsReservations': 'False', 'Restaura...</td>\n",
       "      <td>American (Traditional), Restaurants, Diners, B...</td>\n",
       "      <td>{'Monday': '6:0-22:0', 'Tuesday': '6:0-22:0', ...</td>\n",
       "      <td>True</td>\n",
       "      <td>4.958</td>\n",
       "    </tr>\n",
       "    <tr>\n",
       "      <th>15</th>\n",
       "      <td>MUTTqe8uqyMdBl186RmNeA</td>\n",
       "      <td>Tuna Bar</td>\n",
       "      <td>205 Race St</td>\n",
       "      <td>Philadelphia</td>\n",
       "      <td>PA</td>\n",
       "      <td>19106</td>\n",
       "      <td>39.953949</td>\n",
       "      <td>-75.143226</td>\n",
       "      <td>4.0</td>\n",
       "      <td>245</td>\n",
       "      <td>1</td>\n",
       "      <td>{'RestaurantsReservations': 'True', 'Restauran...</td>\n",
       "      <td>Sushi Bars, Restaurants, Japanese</td>\n",
       "      <td>{'Tuesday': '13:30-22:0', 'Wednesday': '13:30-...</td>\n",
       "      <td>False</td>\n",
       "      <td>5.421</td>\n",
       "    </tr>\n",
       "    <tr>\n",
       "      <th>19</th>\n",
       "      <td>ROeacJQwBeh05Rqg7F6TCg</td>\n",
       "      <td>BAP</td>\n",
       "      <td>1224 South St</td>\n",
       "      <td>Philadelphia</td>\n",
       "      <td>PA</td>\n",
       "      <td>19147</td>\n",
       "      <td>39.943223</td>\n",
       "      <td>-75.162568</td>\n",
       "      <td>4.5</td>\n",
       "      <td>205</td>\n",
       "      <td>1</td>\n",
       "      <td>{'NoiseLevel': 'u'quiet'', 'GoodForMeal': '{'d...</td>\n",
       "      <td>Korean, Restaurants</td>\n",
       "      <td>{'Monday': '11:30-20:30', 'Tuesday': '11:30-20...</td>\n",
       "      <td>True</td>\n",
       "      <td>3.281</td>\n",
       "    </tr>\n",
       "    <tr>\n",
       "      <th>...</th>\n",
       "      <td>...</td>\n",
       "      <td>...</td>\n",
       "      <td>...</td>\n",
       "      <td>...</td>\n",
       "      <td>...</td>\n",
       "      <td>...</td>\n",
       "      <td>...</td>\n",
       "      <td>...</td>\n",
       "      <td>...</td>\n",
       "      <td>...</td>\n",
       "      <td>...</td>\n",
       "      <td>...</td>\n",
       "      <td>...</td>\n",
       "      <td>...</td>\n",
       "      <td>...</td>\n",
       "      <td>...</td>\n",
       "    </tr>\n",
       "    <tr>\n",
       "      <th>150319</th>\n",
       "      <td>8n93L-ilMAsvwUatarykSg</td>\n",
       "      <td>Kitchen Gia</td>\n",
       "      <td>3716 Spruce St</td>\n",
       "      <td>Philadelphia</td>\n",
       "      <td>PA</td>\n",
       "      <td>19104</td>\n",
       "      <td>39.951018</td>\n",
       "      <td>-75.198240</td>\n",
       "      <td>3.0</td>\n",
       "      <td>22</td>\n",
       "      <td>0</td>\n",
       "      <td>{'RestaurantsGoodForGroups': 'True', 'BikePark...</td>\n",
       "      <td>Coffee &amp; Tea, Food, Sandwiches, American (Trad...</td>\n",
       "      <td>{'Monday': '9:0-19:30', 'Tuesday': '9:0-19:30'...</td>\n",
       "      <td>True</td>\n",
       "      <td>0.698</td>\n",
       "    </tr>\n",
       "    <tr>\n",
       "      <th>150321</th>\n",
       "      <td>AM7O0cwkxm6w_e0Q7-f9FQ</td>\n",
       "      <td>Starbucks</td>\n",
       "      <td>8817 S US-31</td>\n",
       "      <td>Indianapolis</td>\n",
       "      <td>IN</td>\n",
       "      <td>46227</td>\n",
       "      <td>39.638245</td>\n",
       "      <td>-86.128069</td>\n",
       "      <td>4.0</td>\n",
       "      <td>29</td>\n",
       "      <td>1</td>\n",
       "      <td>{'RestaurantsPriceRange2': '1', 'Caters': 'Fal...</td>\n",
       "      <td>Food, Coffee &amp; Tea</td>\n",
       "      <td>{'Monday': '6:0-21:0', 'Tuesday': '6:0-21:0', ...</td>\n",
       "      <td>True</td>\n",
       "      <td>4.864</td>\n",
       "    </tr>\n",
       "    <tr>\n",
       "      <th>150322</th>\n",
       "      <td>2MAQeAqmD8enCT2ZYqUgIQ</td>\n",
       "      <td>The Melting Pot - Nashville</td>\n",
       "      <td>166 2nd Ave N, Ste A</td>\n",
       "      <td>Nashville</td>\n",
       "      <td>TN</td>\n",
       "      <td>37201</td>\n",
       "      <td>36.163875</td>\n",
       "      <td>-86.776311</td>\n",
       "      <td>4.0</td>\n",
       "      <td>204</td>\n",
       "      <td>0</td>\n",
       "      <td>{'RestaurantsDelivery': 'False', 'RestaurantsR...</td>\n",
       "      <td>Fondue, Beer, Wine &amp; Spirits, Food, Restaurants</td>\n",
       "      <td>{'Monday': '0:0-0:0', 'Tuesday': '16:0-21:0', ...</td>\n",
       "      <td>True</td>\n",
       "      <td>3.088</td>\n",
       "    </tr>\n",
       "    <tr>\n",
       "      <th>150336</th>\n",
       "      <td>WnT9NIzQgLlILjPT0kEcsQ</td>\n",
       "      <td>Adelita Taqueria &amp; Restaurant</td>\n",
       "      <td>1108 S 9th St</td>\n",
       "      <td>Philadelphia</td>\n",
       "      <td>PA</td>\n",
       "      <td>19147</td>\n",
       "      <td>39.935982</td>\n",
       "      <td>-75.158665</td>\n",
       "      <td>4.5</td>\n",
       "      <td>35</td>\n",
       "      <td>1</td>\n",
       "      <td>{'WheelchairAccessible': 'False', 'Restaurants...</td>\n",
       "      <td>Restaurants, Mexican</td>\n",
       "      <td>{'Monday': '11:0-22:0', 'Tuesday': '11:0-22:0'...</td>\n",
       "      <td>True</td>\n",
       "      <td>3.734</td>\n",
       "    </tr>\n",
       "    <tr>\n",
       "      <th>150340</th>\n",
       "      <td>hn9Toz3s-Ei3uZPt7esExA</td>\n",
       "      <td>West Side Kebab House</td>\n",
       "      <td>2470 Guardian Road NW</td>\n",
       "      <td>Edmonton</td>\n",
       "      <td>AB</td>\n",
       "      <td>T5T 1K8</td>\n",
       "      <td>53.509649</td>\n",
       "      <td>-113.675999</td>\n",
       "      <td>4.5</td>\n",
       "      <td>18</td>\n",
       "      <td>0</td>\n",
       "      <td>{'Ambience': '{'touristy': False, 'hipster': F...</td>\n",
       "      <td>Middle Eastern, Restaurants</td>\n",
       "      <td>{'Monday': '11:0-22:0', 'Tuesday': '11:0-22:0'...</td>\n",
       "      <td>False</td>\n",
       "      <td>16.999</td>\n",
       "    </tr>\n",
       "  </tbody>\n",
       "</table>\n",
       "<p>25000 rows × 16 columns</p>\n",
       "</div>"
      ],
      "text/plain": [
       "                   business_id                           name  \\\n",
       "3       MTSW4McQd7CbVtyjqoe9mw             St Honore Pastries   \n",
       "9       bBDDEgkFA1Otx9Lfe7BZUQ                 Sonic Drive-In   \n",
       "12      il_Ro8jwPlHresjw9EGmBg                        Denny's   \n",
       "15      MUTTqe8uqyMdBl186RmNeA                       Tuna Bar   \n",
       "19      ROeacJQwBeh05Rqg7F6TCg                            BAP   \n",
       "...                        ...                            ...   \n",
       "150319  8n93L-ilMAsvwUatarykSg                    Kitchen Gia   \n",
       "150321  AM7O0cwkxm6w_e0Q7-f9FQ                      Starbucks   \n",
       "150322  2MAQeAqmD8enCT2ZYqUgIQ    The Melting Pot - Nashville   \n",
       "150336  WnT9NIzQgLlILjPT0kEcsQ  Adelita Taqueria & Restaurant   \n",
       "150340  hn9Toz3s-Ei3uZPt7esExA          West Side Kebab House   \n",
       "\n",
       "                      address          city state postal_code   latitude  \\\n",
       "3                 935 Race St  Philadelphia    PA       19107  39.955505   \n",
       "9         2312 Dickerson Pike     Nashville    TN       37207  36.208102   \n",
       "12               8901 US 31 S  Indianapolis    IN       46227  39.637133   \n",
       "15                205 Race St  Philadelphia    PA       19106  39.953949   \n",
       "19              1224 South St  Philadelphia    PA       19147  39.943223   \n",
       "...                       ...           ...   ...         ...        ...   \n",
       "150319         3716 Spruce St  Philadelphia    PA       19104  39.951018   \n",
       "150321           8817 S US-31  Indianapolis    IN       46227  39.638245   \n",
       "150322   166 2nd Ave N, Ste A     Nashville    TN       37201  36.163875   \n",
       "150336          1108 S 9th St  Philadelphia    PA       19147  39.935982   \n",
       "150340  2470 Guardian Road NW      Edmonton    AB     T5T 1K8  53.509649   \n",
       "\n",
       "         longitude  stars  review_count  is_open  \\\n",
       "3       -75.155564    4.0            80        1   \n",
       "9       -86.768170    1.5            10        1   \n",
       "12      -86.127217    2.5            28        1   \n",
       "15      -75.143226    4.0           245        1   \n",
       "19      -75.162568    4.5           205        1   \n",
       "...            ...    ...           ...      ...   \n",
       "150319  -75.198240    3.0            22        0   \n",
       "150321  -86.128069    4.0            29        1   \n",
       "150322  -86.776311    4.0           204        0   \n",
       "150336  -75.158665    4.5            35        1   \n",
       "150340 -113.675999    4.5            18        0   \n",
       "\n",
       "                                               attributes  \\\n",
       "3       {'RestaurantsDelivery': 'False', 'OutdoorSeati...   \n",
       "9       {'RestaurantsAttire': ''casual'', 'Restaurants...   \n",
       "12      {'RestaurantsReservations': 'False', 'Restaura...   \n",
       "15      {'RestaurantsReservations': 'True', 'Restauran...   \n",
       "19      {'NoiseLevel': 'u'quiet'', 'GoodForMeal': '{'d...   \n",
       "...                                                   ...   \n",
       "150319  {'RestaurantsGoodForGroups': 'True', 'BikePark...   \n",
       "150321  {'RestaurantsPriceRange2': '1', 'Caters': 'Fal...   \n",
       "150322  {'RestaurantsDelivery': 'False', 'RestaurantsR...   \n",
       "150336  {'WheelchairAccessible': 'False', 'Restaurants...   \n",
       "150340  {'Ambience': '{'touristy': False, 'hipster': F...   \n",
       "\n",
       "                                               categories  \\\n",
       "3       Restaurants, Food, Bubble Tea, Coffee & Tea, B...   \n",
       "9       Ice Cream & Frozen Yogurt, Fast Food, Burgers,...   \n",
       "12      American (Traditional), Restaurants, Diners, B...   \n",
       "15                      Sushi Bars, Restaurants, Japanese   \n",
       "19                                    Korean, Restaurants   \n",
       "...                                                   ...   \n",
       "150319  Coffee & Tea, Food, Sandwiches, American (Trad...   \n",
       "150321                                 Food, Coffee & Tea   \n",
       "150322    Fondue, Beer, Wine & Spirits, Food, Restaurants   \n",
       "150336                               Restaurants, Mexican   \n",
       "150340                        Middle Eastern, Restaurants   \n",
       "\n",
       "                                                    hours  \\\n",
       "3       {'Monday': '7:0-20:0', 'Tuesday': '7:0-20:0', ...   \n",
       "9       {'Monday': '0:0-0:0', 'Tuesday': '6:0-21:0', '...   \n",
       "12      {'Monday': '6:0-22:0', 'Tuesday': '6:0-22:0', ...   \n",
       "15      {'Tuesday': '13:30-22:0', 'Wednesday': '13:30-...   \n",
       "19      {'Monday': '11:30-20:30', 'Tuesday': '11:30-20...   \n",
       "...                                                   ...   \n",
       "150319  {'Monday': '9:0-19:30', 'Tuesday': '9:0-19:30'...   \n",
       "150321  {'Monday': '6:0-21:0', 'Tuesday': '6:0-21:0', ...   \n",
       "150322  {'Monday': '0:0-0:0', 'Tuesday': '16:0-21:0', ...   \n",
       "150336  {'Monday': '11:0-22:0', 'Tuesday': '11:0-22:0'...   \n",
       "150340  {'Monday': '11:0-22:0', 'Tuesday': '11:0-22:0'...   \n",
       "\n",
       "        close_to_university  distance  \n",
       "3                      True     4.050  \n",
       "9                      True     4.010  \n",
       "12                     True     4.958  \n",
       "15                    False     5.421  \n",
       "19                     True     3.281  \n",
       "...                     ...       ...  \n",
       "150319                 True     0.698  \n",
       "150321                 True     4.864  \n",
       "150322                 True     3.088  \n",
       "150336                 True     3.734  \n",
       "150340                False    16.999  \n",
       "\n",
       "[25000 rows x 16 columns]"
      ]
     },
     "execution_count": 35,
     "metadata": {},
     "output_type": "execute_result"
    }
   ],
   "source": [
    "business_lg"
   ]
  },
  {
   "cell_type": "code",
   "execution_count": 36,
   "metadata": {},
   "outputs": [],
   "source": [
    "review_business_lg = pd.merge(review_student, business_lg, how='inner', on='business_id')\n",
    "review_business_lg = review_business_lg[['city', 'name', 'stars_x', 'student_or_not', 'stars_y', 'review_count', 'close_to_university', 'distance']]\n",
    "review_business_lg = review_business_lg.rename(columns={'name': 'restaurant_name', 'stars_x': 'rating', 'stars_y': 'avg_rating'})"
   ]
  },
  {
   "cell_type": "markdown",
   "metadata": {},
   "source": [
    "Let's check the distribution on distances."
   ]
  },
  {
   "cell_type": "code",
   "execution_count": 37,
   "metadata": {
    "scrolled": true
   },
   "outputs": [
    {
     "data": {
      "image/png": "[encoded data removed]",
      "text/plain": [
       "<Figure size 432x288 with 1 Axes>"
      ]
     },
     "metadata": {
      "needs_background": "light"
     },
     "output_type": "display_data"
    }
   ],
   "source": [
    "sns.histplot(data=business_lg['distance'])\n",
    "\n",
    "f1 = plt.gcf()"
   ]
  },
  {
   "cell_type": "markdown",
   "metadata": {
    "slideshow": {
     "slide_type": "slide"
    }
   },
   "source": [
    "It looks like there's an outlier, lets remove it and check the distribution again."
   ]
  },
  {
   "cell_type": "code",
   "execution_count": 38,
   "metadata": {},
   "outputs": [],
   "source": [
    "business_lg = business_lg.drop(business_lg['distance'].idxmax())"
   ]
  },
  {
   "cell_type": "code",
   "execution_count": 39,
   "metadata": {
    "scrolled": true
   },
   "outputs": [
    {
     "data": {
      "image/png": "[encoded data removed]",
      "text/plain": [
       "<Figure size 432x288 with 1 Axes>"
      ]
     },
     "metadata": {
      "needs_background": "light"
     },
     "output_type": "display_data"
    }
   ],
   "source": [
    "sns.histplot(data=business_lg['distance'])\n",
    "f1 = plt.gcf()"
   ]
  },
  {
   "cell_type": "markdown",
   "metadata": {
    "slideshow": {
     "slide_type": "slide"
    }
   },
   "source": [
    "Let's check the scatterplot to see if we can spot a linear relation between the Yelp ratings of restaurants and the distance they are from a university/college."
   ]
  },
  {
   "cell_type": "code",
   "execution_count": 40,
   "metadata": {},
   "outputs": [
    {
     "data": {
      "text/plain": [
       "<AxesSubplot:xlabel='distance', ylabel='rating'>"
      ]
     },
     "execution_count": 40,
     "metadata": {},
     "output_type": "execute_result"
    },
    {
     "data": {
      "image/png": "[encoded data removed]",
      "text/plain": [
       "<Figure size 432x288 with 1 Axes>"
      ]
     },
     "metadata": {
      "needs_background": "light"
     },
     "output_type": "display_data"
    }
   ],
   "source": [
    "sns.scatterplot(data=review_business_lg, y='rating', x='distance')"
   ]
  },
  {
   "cell_type": "code",
   "execution_count": 41,
   "metadata": {},
   "outputs": [
    {
     "data": {
      "text/plain": [
       "<AxesSubplot:xlabel='distance', ylabel='avg_rating'>"
      ]
     },
     "execution_count": 41,
     "metadata": {},
     "output_type": "execute_result"
    },
    {
     "data": {
      "image/png": "[encoded data removed]",
      "text/plain": [
       "<Figure size 432x288 with 1 Axes>"
      ]
     },
     "metadata": {
      "needs_background": "light"
     },
     "output_type": "display_data"
    }
   ],
   "source": [
    "sns.scatterplot(data=review_business_lg, x='distance', y='avg_rating')"
   ]
  },
  {
   "cell_type": "markdown",
   "metadata": {},
   "source": [
    "From the scatterplot there seems to be no relation between Yelp ratings and distance as there is about the same amount of low and high ratings for restaurants of all distances from an university/college. (Note that the scatterplot looks like this because the Yelp ratings are at hard intervals) If we were to draw a line between these points it should look flat. Lets check using linear regression. "
   ]
  },
  {
   "cell_type": "code",
   "execution_count": 42,
   "metadata": {},
   "outputs": [],
   "source": [
    "outcome, predictors = patsy.dmatrices('rating ~ distance', review_business_lg)\n",
    "mod = sm.OLS(outcome, predictors)\n",
    "res_1 = mod.fit()"
   ]
  },
  {
   "cell_type": "code",
   "execution_count": 43,
   "metadata": {},
   "outputs": [
    {
     "name": "stdout",
     "output_type": "stream",
     "text": [
      "                            OLS Regression Results                            \n",
      "==============================================================================\n",
      "Dep. Variable:                 rating   R-squared:                       0.001\n",
      "Model:                            OLS   Adj. R-squared:                  0.001\n",
      "Method:                 Least Squares   F-statistic:                     41.19\n",
      "Date:                Tue, 19 Mar 2024   Prob (F-statistic):           1.40e-10\n",
      "Time:                        21:53:49   Log-Likelihood:                -74091.\n",
      "No. Observations:               44318   AIC:                         1.482e+05\n",
      "Df Residuals:                   44316   BIC:                         1.482e+05\n",
      "Df Model:                           1                                         \n",
      "Covariance Type:            nonrobust                                         \n",
      "==============================================================================\n",
      "                 coef    std err          t      P>|t|      [0.025      0.975]\n",
      "------------------------------------------------------------------------------\n",
      "Intercept      3.8933      0.008    459.921      0.000       3.877       3.910\n",
      "distance      -0.0078      0.001     -6.418      0.000      -0.010      -0.005\n",
      "==============================================================================\n",
      "Omnibus:                     5044.150   Durbin-Watson:                   1.701\n",
      "Prob(Omnibus):                  0.000   Jarque-Bera (JB):             6916.979\n",
      "Skew:                          -0.962   Prob(JB):                         0.00\n",
      "Kurtosis:                       2.795   Cond. No.                         9.68\n",
      "==============================================================================\n",
      "\n",
      "Notes:\n",
      "[1] Standard Errors assume that the covariance matrix of the errors is correctly specified.\n"
     ]
    }
   ],
   "source": [
    "print(res_1.summary())"
   ]
  },
  {
   "cell_type": "code",
   "execution_count": 44,
   "metadata": {},
   "outputs": [],
   "source": [
    "outcome_2, predictors_2 = patsy.dmatrices('avg_rating ~ distance', review_business_lg)\n",
    "mod_2 = sm.OLS(outcome_2, predictors_2)\n",
    "res_2 = mod_2.fit()"
   ]
  },
  {
   "cell_type": "code",
   "execution_count": 45,
   "metadata": {},
   "outputs": [
    {
     "name": "stdout",
     "output_type": "stream",
     "text": [
      "                            OLS Regression Results                            \n",
      "==============================================================================\n",
      "Dep. Variable:             avg_rating   R-squared:                       0.008\n",
      "Model:                            OLS   Adj. R-squared:                  0.008\n",
      "Method:                 Least Squares   F-statistic:                     351.9\n",
      "Date:                Tue, 19 Mar 2024   Prob (F-statistic):           3.34e-78\n",
      "Time:                        21:53:50   Log-Likelihood:                -36320.\n",
      "No. Observations:               44318   AIC:                         7.264e+04\n",
      "Df Residuals:                   44316   BIC:                         7.266e+04\n",
      "Df Model:                           1                                         \n",
      "Covariance Type:            nonrobust                                         \n",
      "==============================================================================\n",
      "                 coef    std err          t      P>|t|      [0.025      0.975]\n",
      "------------------------------------------------------------------------------\n",
      "Intercept      3.8591      0.004   1069.028      0.000       3.852       3.866\n",
      "distance      -0.0098      0.001    -18.758      0.000      -0.011      -0.009\n",
      "==============================================================================\n",
      "Omnibus:                     7562.557   Durbin-Watson:                   0.181\n",
      "Prob(Omnibus):                  0.000   Jarque-Bera (JB):            14489.829\n",
      "Skew:                          -1.058   Prob(JB):                         0.00\n",
      "Kurtosis:                       4.835   Cond. No.                         9.68\n",
      "==============================================================================\n",
      "\n",
      "Notes:\n",
      "[1] Standard Errors assume that the covariance matrix of the errors is correctly specified.\n"
     ]
    }
   ],
   "source": [
    "print(res_2.summary())"
   ]
  },
  {
   "cell_type": "markdown",
   "metadata": {},
   "source": [
    "In both linear regressions, the first trying to predict review rating, and the second trying to predict a restaurant's average rating, both using distance, we see a low pvalue in the distance row meaning that it is statistically significant and likely nonzero. However the coefficient for distance is still very small, despite the value being statistically significant so distance doesn't have much of an effect on reveiw rating or average rating."
   ]
  },
  {
   "cell_type": "markdown",
   "metadata": {},
   "source": [
    "However, it might be the case for the average ratings, that because there are many repeated values, it could affect the model. Lets revert back to just the business_lg dataframe and run linear regression using that."
   ]
  },
  {
   "cell_type": "code",
   "execution_count": 46,
   "metadata": {},
   "outputs": [],
   "source": [
    "outcome_3, predictors_3 = patsy.dmatrices('stars ~ distance', business_lg)\n",
    "mod_3 = sm.OLS(outcome_3, predictors_3)\n",
    "res_3 = mod_3.fit()"
   ]
  },
  {
   "cell_type": "code",
   "execution_count": 47,
   "metadata": {},
   "outputs": [
    {
     "name": "stdout",
     "output_type": "stream",
     "text": [
      "                            OLS Regression Results                            \n",
      "==============================================================================\n",
      "Dep. Variable:                  stars   R-squared:                       0.008\n",
      "Model:                            OLS   Adj. R-squared:                  0.008\n",
      "Method:                 Least Squares   F-statistic:                     193.8\n",
      "Date:                Tue, 19 Mar 2024   Prob (F-statistic):           6.83e-44\n",
      "Time:                        21:53:50   Log-Likelihood:                -30688.\n",
      "No. Observations:               24999   AIC:                         6.138e+04\n",
      "Df Residuals:                   24997   BIC:                         6.140e+04\n",
      "Df Model:                           1                                         \n",
      "Covariance Type:            nonrobust                                         \n",
      "==============================================================================\n",
      "                 coef    std err          t      P>|t|      [0.025      0.975]\n",
      "------------------------------------------------------------------------------\n",
      "Intercept      3.6597      0.008    450.330      0.000       3.644       3.676\n",
      "distance      -0.0135      0.001    -13.922      0.000      -0.015      -0.012\n",
      "==============================================================================\n",
      "Omnibus:                     1452.109   Durbin-Watson:                   2.011\n",
      "Prob(Omnibus):                  0.000   Jarque-Bera (JB):             1721.998\n",
      "Skew:                          -0.643   Prob(JB):                         0.00\n",
      "Kurtosis:                       2.995   Cond. No.                         13.1\n",
      "==============================================================================\n",
      "\n",
      "Notes:\n",
      "[1] Standard Errors assume that the covariance matrix of the errors is correctly specified.\n"
     ]
    }
   ],
   "source": [
    "print(res_3.summary())"
   ]
  },
  {
   "cell_type": "markdown",
   "metadata": {},
   "source": [
    "Again we see a pvalue of 0! This means that we are pretty confidant in our coefficient. However, the coefficient for distance is -0.0014, a value that is pretty much 0. So even in the case that we are confident, distance barely affects the Yelp rating of a restaurant (when we work in a scale of 0.5, changes on a scale of 0.0014 don't really matter)."
   ]
  },
  {
   "cell_type": "markdown",
   "metadata": {},
   "source": [
    "Lets check these coefficients per university to see if this is different for some specific universities."
   ]
  },
  {
   "cell_type": "code",
   "execution_count": 48,
   "metadata": {},
   "outputs": [
    {
     "name": "stdout",
     "output_type": "stream",
     "text": [
      "Tucson distance coef, pvalue: -0.02348014710517908 1.973349041034627e-29\n",
      "Philadelphia distance coef, pvalue: 0.002771896479638284 0.060048907543371485\n",
      "New Orleans distance coef, pvalue: -0.019801151691254182 4.4198834660608146e-13\n",
      "Santa Barbara distance coef, pvalue: -0.01908444339580161 6.537725936687052e-10\n",
      "Indianapolis distance coef, pvalue: -0.028078788478805405 2.5607005144326463e-33\n",
      "Tampa distance coef, pvalue: 0.000914553749047525 0.5695756118487593\n",
      "Nashville distance coef, pvalue: -0.03489970549495028 8.052083656934554e-101\n",
      "Reno distance coef, pvalue: -0.06509373125880094 5.080044002626258e-59\n",
      "Edmonton distance coef, pvalue: -0.044720669841808114 2.2169385782843615e-14\n",
      "St. Louis distance coef, pvalue: 0.05239540816671164 0.0006505199988430329\n"
     ]
    }
   ],
   "source": [
    "# do linear regression per city, since we only picked one university/college per city\n",
    "for city in review_business_lg['city'].unique():\n",
    "    out, pred = patsy.dmatrices('avg_rating ~ distance', review_business_lg[review_business_lg['city']==city])\n",
    "    mod = sm.OLS(out, pred)\n",
    "    res = mod.fit()\n",
    "    print(city, 'distance coef, pvalue:', res.params[1], res.pvalues[1])"
   ]
  },
  {
   "cell_type": "code",
   "execution_count": 49,
   "metadata": {},
   "outputs": [
    {
     "name": "stdout",
     "output_type": "stream",
     "text": [
      "Philadelphia distance coef, pvalue: -0.021001644673470512 6.938766368582747e-23\n",
      "Nashville distance coef, pvalue: -0.02282392993556582 6.193023588559855e-12\n",
      "Indianapolis distance coef, pvalue: -0.027594791297863783 7.873703222892081e-21\n",
      "Edmonton distance coef, pvalue: -0.0226297324370053 1.2314762213914875e-08\n",
      "Reno distance coef, pvalue: -0.03741402462439515 4.5181943588653566e-08\n",
      "Tucson distance coef, pvalue: -0.017036831481580986 1.9837803869667264e-08\n",
      "Tampa distance coef, pvalue: -0.005786451965124915 0.03325085579968091\n",
      "Santa Barbara distance coef, pvalue: 0.027875758165070933 3.2117868091776005e-05\n",
      "New Orleans distance coef, pvalue: -0.02132569106730503 3.8296498449916786e-05\n",
      "St. Louis distance coef, pvalue: 0.013749277877485347 0.1674120455876262\n"
     ]
    }
   ],
   "source": [
    "for city in business_lg['city'].unique():\n",
    "    out, pred = patsy.dmatrices('stars ~ distance', business_lg[business_lg['city']==city])\n",
    "    mod = sm.OLS(out, pred)\n",
    "    res = mod.fit()\n",
    "    print(city, 'distance coef, pvalue:', res.params[1], res.pvalues[1])"
   ]
  },
  {
   "cell_type": "markdown",
   "metadata": {},
   "source": [
    "Even separated among specific universities/colleges, we see mostly the same results. It is dominated by the fact that the coefficient for distance is still extremely small, thus distance doesn't have much of an effect on rating."
   ]
  },
  {
   "cell_type": "markdown",
   "metadata": {},
   "source": [
    "### Student vs Non-student Reviews"
   ]
  },
  {
   "cell_type": "markdown",
   "metadata": {},
   "source": [
    "Ultimately, we want to determine how students from these campuses impact these restaurants, i.e. do they increase or decrease restaurant's Yelp ratings? Let's start by checking the reviews of the restaurants that are close. How many are of these reviews are from students and how many are from non students?"
   ]
  },
  {
   "cell_type": "code",
   "execution_count": 50,
   "metadata": {},
   "outputs": [
    {
     "name": "stdout",
     "output_type": "stream",
     "text": [
      "14069 of the reviews of restaurants that are close to campus are from students\n",
      "16179 of the reviews of restaurants that are close to campus are not from students\n"
     ]
    }
   ],
   "source": [
    "close_reviews=review_businesses[review_businesses['close_to_university'] == True]\n",
    "is_student=close_reviews[close_reviews['student_or_not']==True].shape[0]\n",
    "print(is_student,'of the reviews of restaurants that are close to campus are from students')\n",
    "not_student=close_reviews[close_reviews['student_or_not']==False].shape[0]\n",
    "print(not_student, 'of the reviews of restaurants that are close to campus are not from students')"
   ]
  },
  {
   "cell_type": "markdown",
   "metadata": {},
   "source": [
    "What is the average Yelp rating among the reviews from students? What is the average Yelp rating among the reviews from non students?"
   ]
  },
  {
   "cell_type": "code",
   "execution_count": 51,
   "metadata": {},
   "outputs": [
    {
     "name": "stdout",
     "output_type": "stream",
     "text": [
      "3.829945269741986 is the average Yelp rating among the reviews from students\n",
      "3.861827059768836  is the average Yelp rating among the reviews from non students\n"
     ]
    }
   ],
   "source": [
    "avg_rating_student=close_reviews[close_reviews['student_or_not']==True]['avg_rating'].mean()\n",
    "print(avg_rating_student,'is the average Yelp rating among the reviews from students')\n",
    "avg_rating_nonstudent=close_reviews[close_reviews['student_or_not']==False]['avg_rating'].mean()\n",
    "print(avg_rating_nonstudent,' is the average Yelp rating among the reviews from non students')"
   ]
  },
  {
   "cell_type": "markdown",
   "metadata": {},
   "source": [
    "According to the previous calculation, we can see that the average ratings from non-students is slightly higher than the average ratings from non-students(the difference is smaller than 1).  In order to further compare between the mean ratings of reviews from students and non-students, we decided to perform a permutation test to assess the statistical significance of the difference. The test statistic in this permutation test would be the difference in the average ratings between students and non-students from our dataset."
   ]
  },
  {
   "cell_type": "code",
   "execution_count": 52,
   "metadata": {},
   "outputs": [
    {
     "data": {
      "text/plain": [
       "0.02512900573164778"
      ]
     },
     "execution_count": 52,
     "metadata": {},
     "output_type": "execute_result"
    }
   ],
   "source": [
    "test_statistic = review_businesses[review_businesses['student_or_not'] == False]['avg_rating'].mean() - review_businesses[review_businesses['student_or_not'] == True]['avg_rating'].mean()\n",
    "test_statistic"
   ]
  },
  {
   "cell_type": "markdown",
   "metadata": {},
   "source": [
    "By comparing the original test statistic to the distribution of the test statistics from the permuted samples, we can determine how extreme the original difference is."
   ]
  },
  {
   "cell_type": "code",
   "execution_count": 53,
   "metadata": {},
   "outputs": [
    {
     "data": {
      "text/plain": [
       "0.0"
      ]
     },
     "execution_count": 53,
     "metadata": {},
     "output_type": "execute_result"
    },
    {
     "data": {
      "image/png": "[encoded data removed]",
      "text/plain": [
       "<Figure size 432x288 with 1 Axes>"
      ]
     },
     "metadata": {
      "needs_background": "light"
     },
     "output_type": "display_data"
    }
   ],
   "source": [
    "def permutation_tests():\n",
    "    diff_array = list()\n",
    "    shuffled_df = review_businesses.copy()\n",
    "    for i in range (1000):\n",
    "        shuffled_df['student_or_not'] = np.random.permutation(shuffled_df['student_or_not'])\n",
    "        student = shuffled_df[shuffled_df['student_or_not'] == True]['avg_rating'].mean()\n",
    "        nonstudent = shuffled_df[shuffled_df['student_or_not'] == False]['avg_rating'].mean()\n",
    "        diff_array.append((nonstudent-student))\n",
    "    return np.array(diff_array)\n",
    "\n",
    "results = permutation_tests()\n",
    "plt.hist(results)\n",
    "plt.xlabel('Difference in Means')\n",
    "plt.ylabel('Count')\n",
    "results.mean()\n",
    "np.mean(test_statistic <= results)"
   ]
  },
  {
   "cell_type": "markdown",
   "metadata": {},
   "source": [
    "The p-value from the permutation test is 0.001 which is way below the 0.05/0.01 significance level. Therefore, we can conclude that  the difference in means between average ratings from student and non-student reviews is statistically significant, meaning that it's unlikely the observed difference occurred by random chance. However, the difference could be statistically significant but still small or unimportant in practical terms given the difference of observed ratings between the two groups is very small (or almost negligible)."
   ]
  },
  {
   "cell_type": "markdown",
   "metadata": {},
   "source": [
    "We can again split the analysis of reviews up by university to see if some universities have different results from others. "
   ]
  },
  {
   "cell_type": "code",
   "execution_count": 54,
   "metadata": {},
   "outputs": [
    {
     "data": {
      "text/html": [
       "<div>\n",
       "<style scoped>\n",
       "    .dataframe tbody tr th:only-of-type {\n",
       "        vertical-align: middle;\n",
       "    }\n",
       "\n",
       "    .dataframe tbody tr th {\n",
       "        vertical-align: top;\n",
       "    }\n",
       "\n",
       "    .dataframe thead th {\n",
       "        text-align: right;\n",
       "    }\n",
       "</style>\n",
       "<table border=\"1\" class=\"dataframe\">\n",
       "  <thead>\n",
       "    <tr style=\"text-align: right;\">\n",
       "      <th></th>\n",
       "      <th>city</th>\n",
       "      <th>restaurant_name</th>\n",
       "      <th>rating</th>\n",
       "      <th>student_or_not</th>\n",
       "      <th>avg_rating</th>\n",
       "      <th>review_count</th>\n",
       "      <th>close_to_university</th>\n",
       "      <th>university_name</th>\n",
       "    </tr>\n",
       "  </thead>\n",
       "  <tbody>\n",
       "    <tr>\n",
       "      <th>0</th>\n",
       "      <td>Tucson</td>\n",
       "      <td>Kettle Restaurant</td>\n",
       "      <td>3</td>\n",
       "      <td>True</td>\n",
       "      <td>3.5</td>\n",
       "      <td>47</td>\n",
       "      <td>True</td>\n",
       "      <td>University of Arizona Tuscon</td>\n",
       "    </tr>\n",
       "    <tr>\n",
       "      <th>1</th>\n",
       "      <td>Tucson</td>\n",
       "      <td>Kettle Restaurant</td>\n",
       "      <td>2</td>\n",
       "      <td>True</td>\n",
       "      <td>3.5</td>\n",
       "      <td>47</td>\n",
       "      <td>True</td>\n",
       "      <td>University of Arizona Tuscon</td>\n",
       "    </tr>\n",
       "    <tr>\n",
       "      <th>2</th>\n",
       "      <td>Tucson</td>\n",
       "      <td>Kettle Restaurant</td>\n",
       "      <td>5</td>\n",
       "      <td>False</td>\n",
       "      <td>3.5</td>\n",
       "      <td>47</td>\n",
       "      <td>True</td>\n",
       "      <td>University of Arizona Tuscon</td>\n",
       "    </tr>\n",
       "    <tr>\n",
       "      <th>3</th>\n",
       "      <td>Tucson</td>\n",
       "      <td>Kettle Restaurant</td>\n",
       "      <td>5</td>\n",
       "      <td>False</td>\n",
       "      <td>3.5</td>\n",
       "      <td>47</td>\n",
       "      <td>True</td>\n",
       "      <td>University of Arizona Tuscon</td>\n",
       "    </tr>\n",
       "    <tr>\n",
       "      <th>4</th>\n",
       "      <td>Tucson</td>\n",
       "      <td>Kettle Restaurant</td>\n",
       "      <td>3</td>\n",
       "      <td>False</td>\n",
       "      <td>3.5</td>\n",
       "      <td>47</td>\n",
       "      <td>True</td>\n",
       "      <td>University of Arizona Tuscon</td>\n",
       "    </tr>\n",
       "    <tr>\n",
       "      <th>...</th>\n",
       "      <td>...</td>\n",
       "      <td>...</td>\n",
       "      <td>...</td>\n",
       "      <td>...</td>\n",
       "      <td>...</td>\n",
       "      <td>...</td>\n",
       "      <td>...</td>\n",
       "      <td>...</td>\n",
       "    </tr>\n",
       "    <tr>\n",
       "      <th>44313</th>\n",
       "      <td>Edmonton</td>\n",
       "      <td>Dairy Queen Grill &amp; Chill</td>\n",
       "      <td>1</td>\n",
       "      <td>True</td>\n",
       "      <td>2.0</td>\n",
       "      <td>6</td>\n",
       "      <td>True</td>\n",
       "      <td>University of Alberta</td>\n",
       "    </tr>\n",
       "    <tr>\n",
       "      <th>44314</th>\n",
       "      <td>Tampa</td>\n",
       "      <td>Grand China</td>\n",
       "      <td>5</td>\n",
       "      <td>False</td>\n",
       "      <td>3.5</td>\n",
       "      <td>19</td>\n",
       "      <td>False</td>\n",
       "      <td>University of South Florida</td>\n",
       "    </tr>\n",
       "    <tr>\n",
       "      <th>44315</th>\n",
       "      <td>Philadelphia</td>\n",
       "      <td>Dough Boy Pizza</td>\n",
       "      <td>5</td>\n",
       "      <td>False</td>\n",
       "      <td>4.5</td>\n",
       "      <td>11</td>\n",
       "      <td>False</td>\n",
       "      <td>University of Pennsylvania</td>\n",
       "    </tr>\n",
       "    <tr>\n",
       "      <th>44316</th>\n",
       "      <td>Tucson</td>\n",
       "      <td>Burger King</td>\n",
       "      <td>3</td>\n",
       "      <td>False</td>\n",
       "      <td>1.5</td>\n",
       "      <td>21</td>\n",
       "      <td>True</td>\n",
       "      <td>University of Arizona Tuscon</td>\n",
       "    </tr>\n",
       "    <tr>\n",
       "      <th>44317</th>\n",
       "      <td>Edmonton</td>\n",
       "      <td>Versato's Pizza</td>\n",
       "      <td>5</td>\n",
       "      <td>False</td>\n",
       "      <td>4.5</td>\n",
       "      <td>24</td>\n",
       "      <td>False</td>\n",
       "      <td>University of Alberta</td>\n",
       "    </tr>\n",
       "  </tbody>\n",
       "</table>\n",
       "<p>44318 rows × 8 columns</p>\n",
       "</div>"
      ],
      "text/plain": [
       "               city            restaurant_name  rating  student_or_not  \\\n",
       "0            Tucson          Kettle Restaurant       3            True   \n",
       "1            Tucson          Kettle Restaurant       2            True   \n",
       "2            Tucson          Kettle Restaurant       5           False   \n",
       "3            Tucson          Kettle Restaurant       5           False   \n",
       "4            Tucson          Kettle Restaurant       3           False   \n",
       "...             ...                        ...     ...             ...   \n",
       "44313      Edmonton  Dairy Queen Grill & Chill       1            True   \n",
       "44314         Tampa                Grand China       5           False   \n",
       "44315  Philadelphia            Dough Boy Pizza       5           False   \n",
       "44316        Tucson                Burger King       3           False   \n",
       "44317      Edmonton            Versato's Pizza       5           False   \n",
       "\n",
       "       avg_rating  review_count  close_to_university  \\\n",
       "0             3.5            47                 True   \n",
       "1             3.5            47                 True   \n",
       "2             3.5            47                 True   \n",
       "3             3.5            47                 True   \n",
       "4             3.5            47                 True   \n",
       "...           ...           ...                  ...   \n",
       "44313         2.0             6                 True   \n",
       "44314         3.5            19                False   \n",
       "44315         4.5            11                False   \n",
       "44316         1.5            21                 True   \n",
       "44317         4.5            24                False   \n",
       "\n",
       "                    university_name  \n",
       "0      University of Arizona Tuscon  \n",
       "1      University of Arizona Tuscon  \n",
       "2      University of Arizona Tuscon  \n",
       "3      University of Arizona Tuscon  \n",
       "4      University of Arizona Tuscon  \n",
       "...                             ...  \n",
       "44313         University of Alberta  \n",
       "44314   University of South Florida  \n",
       "44315    University of Pennsylvania  \n",
       "44316  University of Arizona Tuscon  \n",
       "44317         University of Alberta  \n",
       "\n",
       "[44318 rows x 8 columns]"
      ]
     },
     "execution_count": 54,
     "metadata": {},
     "output_type": "execute_result"
    }
   ],
   "source": [
    "city_to_university = universities['University Name'].to_dict()\n",
    "\n",
    "review_businesses['university_name'] = review_businesses['city'].map(city_to_university)\n",
    "\n",
    "review_businesses"
   ]
  },
  {
   "cell_type": "code",
   "execution_count": 55,
   "metadata": {},
   "outputs": [
    {
     "data": {
      "text/html": [
       "<div>\n",
       "<style scoped>\n",
       "    .dataframe tbody tr th:only-of-type {\n",
       "        vertical-align: middle;\n",
       "    }\n",
       "\n",
       "    .dataframe tbody tr th {\n",
       "        vertical-align: top;\n",
       "    }\n",
       "\n",
       "    .dataframe thead th {\n",
       "        text-align: right;\n",
       "    }\n",
       "</style>\n",
       "<table border=\"1\" class=\"dataframe\">\n",
       "  <thead>\n",
       "    <tr style=\"text-align: right;\">\n",
       "      <th></th>\n",
       "      <th>University Name</th>\n",
       "      <th>City</th>\n",
       "      <th>Average Rating from Students</th>\n",
       "      <th>Average Rating from Non-Students</th>\n",
       "    </tr>\n",
       "  </thead>\n",
       "  <tbody>\n",
       "    <tr>\n",
       "      <th>0</th>\n",
       "      <td>Purdue University</td>\n",
       "      <td>Indianapolis</td>\n",
       "      <td>3.831654</td>\n",
       "      <td>3.903778</td>\n",
       "    </tr>\n",
       "    <tr>\n",
       "      <th>1</th>\n",
       "      <td>Tulane University</td>\n",
       "      <td>New Orleans</td>\n",
       "      <td>3.855110</td>\n",
       "      <td>4.061557</td>\n",
       "    </tr>\n",
       "    <tr>\n",
       "      <th>2</th>\n",
       "      <td>UC Santa Barbara</td>\n",
       "      <td>Santa Barbara</td>\n",
       "      <td>3.801944</td>\n",
       "      <td>4.063650</td>\n",
       "    </tr>\n",
       "    <tr>\n",
       "      <th>3</th>\n",
       "      <td>University of Alberta</td>\n",
       "      <td>Edmonton</td>\n",
       "      <td>3.608130</td>\n",
       "      <td>3.672917</td>\n",
       "    </tr>\n",
       "    <tr>\n",
       "      <th>4</th>\n",
       "      <td>University of Arizona Tuscon</td>\n",
       "      <td>Tucson</td>\n",
       "      <td>3.844771</td>\n",
       "      <td>3.876812</td>\n",
       "    </tr>\n",
       "    <tr>\n",
       "      <th>5</th>\n",
       "      <td>University of Nevada</td>\n",
       "      <td>Reno</td>\n",
       "      <td>3.737705</td>\n",
       "      <td>3.984840</td>\n",
       "    </tr>\n",
       "    <tr>\n",
       "      <th>6</th>\n",
       "      <td>University of Pennsylvania</td>\n",
       "      <td>Philadelphia</td>\n",
       "      <td>3.751565</td>\n",
       "      <td>3.905575</td>\n",
       "    </tr>\n",
       "    <tr>\n",
       "      <th>7</th>\n",
       "      <td>University of South Florida</td>\n",
       "      <td>Tampa</td>\n",
       "      <td>3.674469</td>\n",
       "      <td>3.886010</td>\n",
       "    </tr>\n",
       "    <tr>\n",
       "      <th>8</th>\n",
       "      <td>Vanderbilt University</td>\n",
       "      <td>Nashville</td>\n",
       "      <td>3.602155</td>\n",
       "      <td>3.892362</td>\n",
       "    </tr>\n",
       "    <tr>\n",
       "      <th>9</th>\n",
       "      <td>Washington University in St. Louis</td>\n",
       "      <td>St. Louis</td>\n",
       "      <td>3.705263</td>\n",
       "      <td>3.635897</td>\n",
       "    </tr>\n",
       "  </tbody>\n",
       "</table>\n",
       "</div>"
      ],
      "text/plain": [
       "                      University Name           City  \\\n",
       "0                   Purdue University   Indianapolis   \n",
       "1                   Tulane University    New Orleans   \n",
       "2                    UC Santa Barbara  Santa Barbara   \n",
       "3               University of Alberta       Edmonton   \n",
       "4        University of Arizona Tuscon         Tucson   \n",
       "5                University of Nevada           Reno   \n",
       "6          University of Pennsylvania   Philadelphia   \n",
       "7         University of South Florida          Tampa   \n",
       "8               Vanderbilt University      Nashville   \n",
       "9  Washington University in St. Louis      St. Louis   \n",
       "\n",
       "   Average Rating from Students  Average Rating from Non-Students  \n",
       "0                      3.831654                          3.903778  \n",
       "1                      3.855110                          4.061557  \n",
       "2                      3.801944                          4.063650  \n",
       "3                      3.608130                          3.672917  \n",
       "4                      3.844771                          3.876812  \n",
       "5                      3.737705                          3.984840  \n",
       "6                      3.751565                          3.905575  \n",
       "7                      3.674469                          3.886010  \n",
       "8                      3.602155                          3.892362  \n",
       "9                      3.705263                          3.635897  "
      ]
     },
     "execution_count": 55,
     "metadata": {},
     "output_type": "execute_result"
    }
   ],
   "source": [
    "university_city_groups = review_businesses.groupby(['university_name', 'city'])\n",
    "\n",
    "university_city_averages = []\n",
    "\n",
    "for (university, city), group in university_city_groups:\n",
    "    avg_rating_students = group[group['student_or_not'] == True]['rating'].mean()\n",
    "    avg_rating_nonstudents = group[group['student_or_not'] == False]['rating'].mean()\n",
    "    \n",
    "    university_city_averages.append({\n",
    "        'University Name': university,\n",
    "        'City': city,\n",
    "        'Average Rating from Students': avg_rating_students,\n",
    "        'Average Rating from Non-Students': avg_rating_nonstudents\n",
    "    })\n",
    "\n",
    "summary_table = pd.DataFrame(university_city_averages)\n",
    "\n",
    "summary_table"
   ]
  },
  {
   "cell_type": "markdown",
   "metadata": {},
   "source": [
    "Looking at the overall average ratings from students and non-students, we can observe that in 9 out of the 10 cities, the average ratings were lower when they were submitted from students compared to the ratings submitted from non-students. We also want to emphasize how the different is not significantly lower, so this shows that students may have an effect, but the effect isn't big."
   ]
  },
  {
   "cell_type": "markdown",
   "metadata": {},
   "source": [
    "# Ethics & Privacy"
   ]
  },
  {
   "cell_type": "markdown",
   "metadata": {},
   "source": [
    "We need inclusive data representation, by ensuring the dataset adequately represents different types of restaurants and doesn’t exclude any significant group. We must ensure that the data sources that we use comply with ethical standards and privacy laws. The data should be publicly available and not include any personal information about individuals who submitted the ratings. We must review the data and results to monitor for biases.\n",
    "\n",
    "The data on Yelp and Google Maps is self-uploaded, so some restaurants may not appear. Since the data is self-uploaded, we believe the restaurants would be open to having other people see it. The restaurants are self-uploaded. After a restaurant is uploaded, they cannot be taken down unless the restaurant has closed down. Since closed restaurants do not show up, the data could be biased. For instance, restaurants that have closed down could potentially have lower ratings, but these lower ratings are no longer part of the data. Another bias could be with online reviews in general. Restaurants could encourage positive reviews by offering a discount or a free dessert to customers. Another concern is that people who have a negative experience might feel frustrated and post negative reviews while a person who has a great experience has no problems, so they also don’t feel the need to make a review. Negative reviews may be overrepresented. \n",
    "\n",
    "We must develop a methodology that addresses these issues, such as figuring out how we are going to include each level of budget, restaurant type, etc. We have to be sure to exclude personal identifiers (such as names) for those who submitted reviews. We also have to make sure to remove the reviewer’s names. We will include restaurants in the main price categories and all cuisines that are ordered to avoid bias."
   ]
  },
  {
   "cell_type": "markdown",
   "metadata": {},
   "source": [
    "# Discussion and Conclusion\n",
    "Our comprehensive data analysis so far has provided us with insightful revelations about the relationship between a restaurant’s distance to universities/colleges campuses in different cities and its Yelp ratings, as well as the influence of student reviewers on these ratings. After wrangling the raw dataset via various methods, we finalized it into a comprehensive dataframe that contains the important columns of information that we wanted like ‘is the restaurant close to campus or not’, ‘is the reviewers a student or not’ and ‘yelp ratings of these restaurants’ etc. And then our team conducted a series of data analysis on this dataframe using relevant statistical techniques and methods including performing permutation test,t-test and linear regression. Based on what we had so far, we can conclude that the distance of restaurants from campuses bears very minimal correlation with their Yelp ratings, suggesting that distance of restaurants from campuses is not necessarily important in how customers perceive or rate these restaurants. Besides, the analysis indicates that ratings submitted by students would lower the average ratings of these restaurants and that’s a general trend across the 10 universities that we had for our analysis, but the influence is too small to be actually taken into consideration in practical terms. \n",
    "\n",
    "However, we do believe that there are several limitations in regards to the scope and outcomes of our analysis. One of the primary constraints was the selection of only 10 cities and universities for our analysis. This choice was dictated by time constraints and the fact that only 49% of the top 29 cities in our dataset met our research criteria. Consequently, this limitation raises questions about the generalizability of our findings to other cities and university contexts worldwide. Additionally, the method we used to distinguish between student and non-student reviews faced challenges, with a notable presence of false positives and negatives. This issue potentially affected the accuracy of our interpretations. Expanding the dataset to include a more diverse range of cities and improving the accuracy of identifying student reviews are helpful for better future research. These enhancements would not only address the limitations of our current research but also provide a more comprehensive understanding of how location and customer demographics influence restaurant ratings on platforms like Yelp.\n",
    "\n",
    "We believe our work contributes to a broader understanding of what influences students’ patronage at restaurants. While other previous studies have focused on factors like food quality, service,decor and price, our research added a new dimension by exploring the spatial aspect of dining preferences. Future research can be done based on our work to investigate more about the factors that might influence consumer behaviors and to provide inspiration for restaurant owners on how to attract more customers.\n",
    "\n",
    " \n",
    "\n",
    "\n",
    "# Team Contributions\n",
    "\n",
    "- Carmen Truong - Finding dataset, Reviews dataset wrangling, Close/Far average business rating eda, conclusion of video\n",
    "- Zifan Luo - Finding dataset, Reviews dataset wrangling, Student vs Non-student reviews eda, conclusion\n",
    "- Rabih Siddiqui - Compiled universities dataset, Student vs Non-student reviews eda, editing video, ethics and privacy\n",
    "- Lewis Weng - Businesses dataset wrangling, close/far average business rating eda, ethics and privacy, abstract\n",
    "- Jacob Lin - Businesses dataset wrangling, businesses linear regression, intro of video, compiling work and uploading notebooks"
   ]
  }
 ],
 "metadata": {
  "kernelspec": {
   "display_name": "Python 3 (ipykernel)",
   "language": "python",
   "name": "python3"
  },
  "language_info": {
   "codemirror_mode": {
    "name": "ipython",
    "version": 3
   },
   "file_extension": ".py",
   "mimetype": "text/x-python",
   "name": "python",
   "nbconvert_exporter": "python",
   "pygments_lexer": "ipython3",
   "version": "3.11.7"
  }
 },
 "nbformat": 4,
 "nbformat_minor": 4
}
