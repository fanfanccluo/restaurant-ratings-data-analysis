{
 "cells": [
  {
   "cell_type": "markdown",
   "metadata": {},
   "source": [
    "# COGS 108 - Project Proposal"
   ]
  },
  {
   "cell_type": "markdown",
   "metadata": {},
   "source": [
    "# Names\n",
    "\n",
    "- Carmen Truong\n",
    "- Rabih Siddiqui\n",
    "- Lewis Weng\n",
    "- Jacob Lin\n",
    "- Zifan Luo"
   ]
  },
  {
   "cell_type": "markdown",
   "metadata": {},
   "source": [
    "# Research Question"
   ]
  },
  {
   "cell_type": "markdown",
   "metadata": {},
   "source": [
    "Do restaurants further from the UCSD campus have higher/lower ratings than those closer to campus? How do students affect the ratings of restaurants in the vicinity of their school?"
   ]
  },
  {
   "cell_type": "markdown",
   "metadata": {},
   "source": [
    "## Background and Prior Work"
   ]
  },
  {
   "cell_type": "markdown",
   "metadata": {},
   "source": [
    "Colleges and universities host many students every year and as the number of students grow business around these places also grow, some even forming college towns where businesses’ livelihoods depend on students like at UC Davis. We were curious as to specifically restaurants in the vicinity of a college or university and as students of UCSD, it follows that we were curious about restaurants around that specific area. As a restaurant’s success or profits are hard to measure and obtain, we settled on trying to see if restaurants’ ratings are affected by their vicinity to UCSD.\n",
    "\n",
    "One article published by QSR Magazine seems to indicate so, citing data from “College & University Keynote Report” from Datassential saying that 58% of students eat off campus and 49% of students consider themselves foodies and are more conscious about what they eat.<a name=\"cite_ref-1\"></a>[<sup>1</sup>](#cite_note-1) This means that more than half of the student body is regularly eating at restaurants around their campus and reviewing and recommending those restaurants. Another study that more closely looks at customer satisfaction with food service, points out several important factors that can contribute to a restaurant’s rating such as their food quality, service quality, decor quality, and most importantly price.<a name=\"cite_ref-2\"></a>[<sup>2</sup>](#cite_note-2) The conclusions they found is that good service and then good food were the best indicators of a high customer satisfaction. These point out significant attributes that aren’t considered in our research question, and possibly could be much greater of a factor of a restaurant’s rating than distance.\n",
    "\n",
    "1. Baltazar, Amanda. “Restaurants Would Be Wise to Court College Students.” QSR Magazine, 7 July 2023, https://www.qsrmagazine.com/operations/business-advice/restaurants-would-be-wise-court-college-students/\n",
    "2. Serhan, Mireille, and Carole Serhan. “The Impact of Food Service Attributes on Customer Satisfaction in a Rural University Campus Environment.” International Journal of Food Science, Hindawi, 31 Dec. 2019, https://www.hindawi.com/journals/ijfs/2019/2154548/"
   ]
  },
  {
   "cell_type": "markdown",
   "metadata": {},
   "source": [
    "# Hypothesis\n"
   ]
  },
  {
   "cell_type": "markdown",
   "metadata": {},
   "source": [
    "We believe that restaurants further from the UCSD campus will have similar ratings as those closer to UCSD campus. While an influx of students in the area can have an impact on nearby restaurants, we believe that this impact will be minimal and negligible. This is because students don’t make up a majority of a restaurants’ clientele, at least around UCSD. There are many other customers that either live in the area or are traveling that can give ratings to restaurants."
   ]
  },
  {
   "cell_type": "markdown",
   "metadata": {},
   "source": [
    "# Data"
   ]
  },
  {
   "cell_type": "markdown",
   "metadata": {},
   "source": [
    "The ideal dataset for this question would include all the restaurants in a given area, in our case San Diego, and their ratings. It would have a column that contains each restaurant’s distance from UCSD, average rating, number of ratings, type of cuisine, and the amenities that they provide (preferably one hot-encoded). Although implausible, a dataset that included the number of students and the total expenditures of students vs non-students would be interesting, or the average tip percentage of students when compared to non-students (are students broke and tip less?). Ideally, the data would be clean and structured so that we don’t have to data wrangle or eliminate some rows because the data for it doesn’t exist. We’re hoping that there will be at least one thousand observations so that we have enough data to do further analysis, such as whether type of cuisine affects rating. These data could be collected by food review websites such as Yelp or Google Maps in order to help people find what food they would like to eat. These data would be collected by restaurants adding themselves to Yelp so that they can reach customers through Yelp.\n",
    "\n",
    "\n",
    "Dataset #1  \n",
    "Dataset Name: Yelp  \n",
    "Link to the dataset: https://www.yelp.com/dataset  \n",
    "Number of observations: 6,000,000  \n",
    "Number of variables: 14  \n",
    "Description: This dataset contains information on businesses, reviews, and user data from the app named Yelp. We plan to web scrape restaurants located in the area of UCSD and San Diego in general. Ideally, the data would be clean and structured so that we don’t have to data wrangle or eliminate some rows because the data for it doesn’t exist.\n",
    "\n",
    "Dataset #2  \n",
    "Dataset Name: Google Restaurants Rating  \n",
    "Link to the dataset: https://www.kaggle.com/datasets/hwwang98/google-restaurants  \n",
    "Number of observations: 8,500  \n",
    "Number of variables: 19  \n",
    "Description: This dataset contains information on restaurants, reviews, and user data from Google Maps. We plan to clean the dataset the same way as the Yelp dataset. We also want to be able to generalize our findings from observing the Yelp dataset and see whether or not those findings also apply as we look at the restaurants that appear on Google Maps."
   ]
  },
  {
   "cell_type": "markdown",
   "metadata": {},
   "source": [
    "# Ethics & Privacy"
   ]
  },
  {
   "cell_type": "markdown",
   "metadata": {},
   "source": [
    "We need inclusive data representation, by ensuring the dataset adequately represents different types of restaurants and doesn’t exclude any significant group. We must ensure that the data sources that we use comply with ethical standards and privacy laws. The data should be publicly available and not include any personal information about individuals who submitted the ratings. We must review the data and results to monitor for biases.\n",
    "\n",
    "The data on Yelp and Google Maps is self-uploaded, so some restaurants may not appear. Since the data is self-uploaded, we believe the restaurants would be open to having other people see it. The restaurants are self-uploaded. After a restaurant is uploaded, they cannot be taken down unless the restaurant has closed down. Since closed restaurants do not show up, the data could be biased. For instance, restaurants that have closed down could potentially have lower ratings, but these lower ratings are no longer part of the data. Another bias could be with online reviews in general. Restaurants could encourage positive reviews by offering a discount or a free dessert to customers. Another concern is that people who have a negative experience might feel frustrated and post negative reviews while a person who has a great experience has no problems, so they also don’t feel the need to make a review. Negative reviews may be overrepresented. \n",
    "\n",
    "We must develop a methodology that addresses these issues, such as figuring out how we are going to include each level of budget, restaurant type, etc. We have to be sure to exclude personal identifiers (such as names) for those who submitted reviews. We also have to make sure to remove the reviewer’s names. We will include restaurants in the main price categories and all cuisines that are ordered to avoid bias."
   ]
  },
  {
   "cell_type": "markdown",
   "metadata": {},
   "source": [
    "# Team Expectations "
   ]
  },
  {
   "cell_type": "markdown",
   "metadata": {},
   "source": [
    "* Team members are expected to attend regular discord meetings, contribute ideas and actively participate in project discussions.\n",
    "* Team members should be communicative and complete their assigned works by the agreed-upon deadlines.\n",
    "* Team members should provide feedback to each other’s work in a respectful manner."
   ]
  },
  {
   "cell_type": "markdown",
   "metadata": {},
   "source": [
    "# Project Timeline Proposal"
   ]
  },
  {
   "cell_type": "markdown",
   "metadata": {},
   "source": [
    "| Meeting Date | Meeting Time     | Completed Before Meeting                                    | Discuss at Meeting                                           |\n",
    "|--------------|------------------|--------------------------------------------------------------|--------------------------------------------------------------|\n",
    "| 2/10         | 7 PM             | Read & Think about COGS 108 expectations; brainstorm topics/questions | Determine best form of communication; Discuss and decide on final project topic; discuss hypothesis; begin background research |\n",
    "| 2/11         | 7 PM             | Finalize proposal                                           | Discuss ideal dataset(s) and ethics; discuss and submit project proposal  |\n",
    "| 2/16         | 4:15 PM          | Edit, finalize, and submit proposal; Search for datasets    | Discuss Wrangling and possible analytical approaches; Assign group members to lead each specific part |\n",
    "| 2/23         | 4:15 PM          | Finalize information for Checkpoint #1                      | Review/Edit wrangling/EDA; Discuss Analysis Plan             |\n",
    "| 3/1          | 4:15 PM          | Finalize wrangling/EDA; Begin Analysis                      | Discuss/edit Analysis; Complete project check-in            |\n",
    "| 3/8          | 4:15 PM          | Complete analysis; Draft results/conclusion/discussion      | Discuss/edit full project for Checkpoint #2 Discuss video ideas and filming methods |\n",
    "| 3/16         | 4:15 PM          | Check team progress                                         | Talk about progress on the video and documentation for the final project |\n",
    "| 3/20         | Before 11:59 PM  | Finalize Project                                            | Turn in Final Project, Video, & Group Project Surveys       |\n"
   ]
  },
  {
   "cell_type": "code",
   "execution_count": null,
   "metadata": {},
   "outputs": [],
   "source": []
  }
 ],
 "metadata": {
  "kernelspec": {
   "display_name": "Python 3 (ipykernel)",
   "language": "python",
   "name": "python3"
  },
  "language_info": {
   "codemirror_mode": {
    "name": "ipython",
    "version": 3
   },
   "file_extension": ".py",
   "mimetype": "text/x-python",
   "name": "python",
   "nbconvert_exporter": "python",
   "pygments_lexer": "ipython3",
   "version": "3.9.5"
  }
 },
 "nbformat": 4,
 "nbformat_minor": 2
}
